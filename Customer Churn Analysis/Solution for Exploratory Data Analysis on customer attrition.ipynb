{
 "cells": [
  {
   "cell_type": "markdown",
   "metadata": {},
   "source": [
    "## Exploratory Data Analysis on Customer Attrition"
   ]
  },
  {
   "cell_type": "markdown",
   "metadata": {},
   "source": [
    "## Importing Libraries"
   ]
  },
  {
   "cell_type": "code",
   "execution_count": 2,
   "metadata": {},
   "outputs": [],
   "source": [
    "import pandas as pd\n",
    "import numpy as np\n",
    "import matplotlib.pyplot as plt\n",
    "import seaborn as sns\n",
    "from scipy.stats import skew\n",
    "from scipy.stats import kurtosis\n",
    "import warnings\n",
    "warnings.filterwarnings('ignore')\n",
    "%matplotlib inline"
   ]
  },
  {
   "cell_type": "code",
   "execution_count": 3,
   "metadata": {},
   "outputs": [
    {
     "data": {
      "text/html": [
       "<div>\n",
       "<style scoped>\n",
       "    .dataframe tbody tr th:only-of-type {\n",
       "        vertical-align: middle;\n",
       "    }\n",
       "\n",
       "    .dataframe tbody tr th {\n",
       "        vertical-align: top;\n",
       "    }\n",
       "\n",
       "    .dataframe thead th {\n",
       "        text-align: right;\n",
       "    }\n",
       "</style>\n",
       "<table border=\"1\" class=\"dataframe\">\n",
       "  <thead>\n",
       "    <tr style=\"text-align: right;\">\n",
       "      <th></th>\n",
       "      <th>RowNumber</th>\n",
       "      <th>CustomerId</th>\n",
       "      <th>NumOfProducts</th>\n",
       "      <th>HasChckng</th>\n",
       "      <th>IsActiveMember</th>\n",
       "    </tr>\n",
       "  </thead>\n",
       "  <tbody>\n",
       "    <tr>\n",
       "      <th>0</th>\n",
       "      <td>1288</td>\n",
       "      <td>15565701</td>\n",
       "      <td>1.0</td>\n",
       "      <td>0.0</td>\n",
       "      <td>0.0</td>\n",
       "    </tr>\n",
       "    <tr>\n",
       "      <th>1</th>\n",
       "      <td>4199</td>\n",
       "      <td>15565706</td>\n",
       "      <td>1.0</td>\n",
       "      <td>1.0</td>\n",
       "      <td>1.0</td>\n",
       "    </tr>\n",
       "    <tr>\n",
       "      <th>2</th>\n",
       "      <td>7091</td>\n",
       "      <td>15565714</td>\n",
       "      <td>2.0</td>\n",
       "      <td>0.0</td>\n",
       "      <td>1.0</td>\n",
       "    </tr>\n",
       "    <tr>\n",
       "      <th>3</th>\n",
       "      <td>2021</td>\n",
       "      <td>15565779</td>\n",
       "      <td>1.0</td>\n",
       "      <td>1.0</td>\n",
       "      <td>0.0</td>\n",
       "    </tr>\n",
       "    <tr>\n",
       "      <th>4</th>\n",
       "      <td>3698</td>\n",
       "      <td>15565796</td>\n",
       "      <td>1.0</td>\n",
       "      <td>1.0</td>\n",
       "      <td>0.0</td>\n",
       "    </tr>\n",
       "  </tbody>\n",
       "</table>\n",
       "</div>"
      ],
      "text/plain": [
       "   RowNumber  CustomerId  NumOfProducts  HasChckng  IsActiveMember\n",
       "0       1288    15565701            1.0        0.0             0.0\n",
       "1       4199    15565706            1.0        1.0             1.0\n",
       "2       7091    15565714            2.0        0.0             1.0\n",
       "3       2021    15565779            1.0        1.0             0.0\n",
       "4       3698    15565796            1.0        1.0             0.0"
      ]
     },
     "execution_count": 3,
     "metadata": {},
     "output_type": "execute_result"
    }
   ],
   "source": [
    "input1=pd.read_csv('Customer Portfolio Snapshot.csv')\n",
    "input1.head()"
   ]
  },
  {
   "cell_type": "code",
   "execution_count": 4,
   "metadata": {},
   "outputs": [
    {
     "data": {
      "text/html": [
       "<div>\n",
       "<style scoped>\n",
       "    .dataframe tbody tr th:only-of-type {\n",
       "        vertical-align: middle;\n",
       "    }\n",
       "\n",
       "    .dataframe tbody tr th {\n",
       "        vertical-align: top;\n",
       "    }\n",
       "\n",
       "    .dataframe thead th {\n",
       "        text-align: right;\n",
       "    }\n",
       "</style>\n",
       "<table border=\"1\" class=\"dataframe\">\n",
       "  <thead>\n",
       "    <tr style=\"text-align: right;\">\n",
       "      <th></th>\n",
       "      <th>RowNumber</th>\n",
       "      <th>CustomerId</th>\n",
       "      <th>Tenure</th>\n",
       "      <th>CreditScore</th>\n",
       "      <th>Balance</th>\n",
       "      <th>EstimatedSalary</th>\n",
       "    </tr>\n",
       "  </thead>\n",
       "  <tbody>\n",
       "    <tr>\n",
       "      <th>0</th>\n",
       "      <td>1</td>\n",
       "      <td>15634602.0</td>\n",
       "      <td>2.0</td>\n",
       "      <td>619.0</td>\n",
       "      <td>NaN</td>\n",
       "      <td>101348.88</td>\n",
       "    </tr>\n",
       "    <tr>\n",
       "      <th>1</th>\n",
       "      <td>2</td>\n",
       "      <td>15647311.0</td>\n",
       "      <td>1.0</td>\n",
       "      <td>608.0</td>\n",
       "      <td>83807.86</td>\n",
       "      <td>112542.58</td>\n",
       "    </tr>\n",
       "    <tr>\n",
       "      <th>2</th>\n",
       "      <td>3</td>\n",
       "      <td>15619304.0</td>\n",
       "      <td>8.0</td>\n",
       "      <td>502.0</td>\n",
       "      <td>159660.80</td>\n",
       "      <td>113931.57</td>\n",
       "    </tr>\n",
       "    <tr>\n",
       "      <th>3</th>\n",
       "      <td>4</td>\n",
       "      <td>15701354.0</td>\n",
       "      <td>1.0</td>\n",
       "      <td>699.0</td>\n",
       "      <td>NaN</td>\n",
       "      <td>93826.63</td>\n",
       "    </tr>\n",
       "    <tr>\n",
       "      <th>4</th>\n",
       "      <td>5</td>\n",
       "      <td>15737888.0</td>\n",
       "      <td>2.0</td>\n",
       "      <td>850.0</td>\n",
       "      <td>125510.82</td>\n",
       "      <td>79084.10</td>\n",
       "    </tr>\n",
       "  </tbody>\n",
       "</table>\n",
       "</div>"
      ],
      "text/plain": [
       "   RowNumber  CustomerId  Tenure  CreditScore    Balance  EstimatedSalary\n",
       "0          1  15634602.0     2.0        619.0        NaN        101348.88\n",
       "1          2  15647311.0     1.0        608.0   83807.86        112542.58\n",
       "2          3  15619304.0     8.0        502.0  159660.80        113931.57\n",
       "3          4  15701354.0     1.0        699.0        NaN         93826.63\n",
       "4          5  15737888.0     2.0        850.0  125510.82         79084.10"
      ]
     },
     "execution_count": 4,
     "metadata": {},
     "output_type": "execute_result"
    }
   ],
   "source": [
    "input2=pd.read_csv('Customer Investment Snapshot.csv')\n",
    "input2.head()"
   ]
  },
  {
   "cell_type": "code",
   "execution_count": 5,
   "metadata": {},
   "outputs": [
    {
     "data": {
      "text/html": [
       "<div>\n",
       "<style scoped>\n",
       "    .dataframe tbody tr th:only-of-type {\n",
       "        vertical-align: middle;\n",
       "    }\n",
       "\n",
       "    .dataframe tbody tr th {\n",
       "        vertical-align: top;\n",
       "    }\n",
       "\n",
       "    .dataframe thead th {\n",
       "        text-align: right;\n",
       "    }\n",
       "</style>\n",
       "<table border=\"1\" class=\"dataframe\">\n",
       "  <thead>\n",
       "    <tr style=\"text-align: right;\">\n",
       "      <th></th>\n",
       "      <th>RowNumber</th>\n",
       "      <th>CustomerId</th>\n",
       "      <th>Surname</th>\n",
       "      <th>Geography</th>\n",
       "      <th>Gender</th>\n",
       "      <th>Age</th>\n",
       "    </tr>\n",
       "  </thead>\n",
       "  <tbody>\n",
       "    <tr>\n",
       "      <th>0</th>\n",
       "      <td>1</td>\n",
       "      <td>15634602.0</td>\n",
       "      <td>Hargrave</td>\n",
       "      <td>West</td>\n",
       "      <td>Female</td>\n",
       "      <td>42.0</td>\n",
       "    </tr>\n",
       "    <tr>\n",
       "      <th>1</th>\n",
       "      <td>2</td>\n",
       "      <td>15647311.0</td>\n",
       "      <td>Hill</td>\n",
       "      <td>Central</td>\n",
       "      <td>Female</td>\n",
       "      <td>41.0</td>\n",
       "    </tr>\n",
       "    <tr>\n",
       "      <th>2</th>\n",
       "      <td>3</td>\n",
       "      <td>15619304.0</td>\n",
       "      <td>Onio</td>\n",
       "      <td>West</td>\n",
       "      <td>Female</td>\n",
       "      <td>42.0</td>\n",
       "    </tr>\n",
       "    <tr>\n",
       "      <th>3</th>\n",
       "      <td>4</td>\n",
       "      <td>15701354.0</td>\n",
       "      <td>Boni</td>\n",
       "      <td>West</td>\n",
       "      <td>Female</td>\n",
       "      <td>39.0</td>\n",
       "    </tr>\n",
       "    <tr>\n",
       "      <th>4</th>\n",
       "      <td>5</td>\n",
       "      <td>15737888.0</td>\n",
       "      <td>Mitchell</td>\n",
       "      <td>Central</td>\n",
       "      <td>Female</td>\n",
       "      <td>43.0</td>\n",
       "    </tr>\n",
       "  </tbody>\n",
       "</table>\n",
       "</div>"
      ],
      "text/plain": [
       "   RowNumber  CustomerId   Surname Geography  Gender   Age\n",
       "0          1  15634602.0  Hargrave      West  Female  42.0\n",
       "1          2  15647311.0      Hill   Central  Female  41.0\n",
       "2          3  15619304.0      Onio      West  Female  42.0\n",
       "3          4  15701354.0      Boni      West  Female  39.0\n",
       "4          5  15737888.0  Mitchell   Central  Female  43.0"
      ]
     },
     "execution_count": 5,
     "metadata": {},
     "output_type": "execute_result"
    }
   ],
   "source": [
    "input3=pd.read_csv('Customer Demographics.csv')\n",
    "input3.head()"
   ]
  },
  {
   "cell_type": "code",
   "execution_count": 6,
   "metadata": {},
   "outputs": [
    {
     "data": {
      "text/html": [
       "<div>\n",
       "<style scoped>\n",
       "    .dataframe tbody tr th:only-of-type {\n",
       "        vertical-align: middle;\n",
       "    }\n",
       "\n",
       "    .dataframe tbody tr th {\n",
       "        vertical-align: top;\n",
       "    }\n",
       "\n",
       "    .dataframe thead th {\n",
       "        text-align: right;\n",
       "    }\n",
       "</style>\n",
       "<table border=\"1\" class=\"dataframe\">\n",
       "  <thead>\n",
       "    <tr style=\"text-align: right;\">\n",
       "      <th></th>\n",
       "      <th>RowNumber</th>\n",
       "      <th>CustomerId</th>\n",
       "      <th>Exited</th>\n",
       "    </tr>\n",
       "  </thead>\n",
       "  <tbody>\n",
       "    <tr>\n",
       "      <th>0</th>\n",
       "      <td>1</td>\n",
       "      <td>15634602.0</td>\n",
       "      <td>1.0</td>\n",
       "    </tr>\n",
       "    <tr>\n",
       "      <th>1</th>\n",
       "      <td>2</td>\n",
       "      <td>15647311.0</td>\n",
       "      <td>0.0</td>\n",
       "    </tr>\n",
       "    <tr>\n",
       "      <th>2</th>\n",
       "      <td>3</td>\n",
       "      <td>15619304.0</td>\n",
       "      <td>1.0</td>\n",
       "    </tr>\n",
       "    <tr>\n",
       "      <th>3</th>\n",
       "      <td>4</td>\n",
       "      <td>15701354.0</td>\n",
       "      <td>0.0</td>\n",
       "    </tr>\n",
       "    <tr>\n",
       "      <th>4</th>\n",
       "      <td>5</td>\n",
       "      <td>15737888.0</td>\n",
       "      <td>0.0</td>\n",
       "    </tr>\n",
       "  </tbody>\n",
       "</table>\n",
       "</div>"
      ],
      "text/plain": [
       "   RowNumber  CustomerId  Exited\n",
       "0          1  15634602.0     1.0\n",
       "1          2  15647311.0     0.0\n",
       "2          3  15619304.0     1.0\n",
       "3          4  15701354.0     0.0\n",
       "4          5  15737888.0     0.0"
      ]
     },
     "execution_count": 6,
     "metadata": {},
     "output_type": "execute_result"
    }
   ],
   "source": [
    "input4=pd.read_csv('Customer Attrition Status.csv')\n",
    "input4.head()"
   ]
  },
  {
   "cell_type": "code",
   "execution_count": 7,
   "metadata": {},
   "outputs": [
    {
     "data": {
      "text/html": [
       "<div>\n",
       "<style scoped>\n",
       "    .dataframe tbody tr th:only-of-type {\n",
       "        vertical-align: middle;\n",
       "    }\n",
       "\n",
       "    .dataframe tbody tr th {\n",
       "        vertical-align: top;\n",
       "    }\n",
       "\n",
       "    .dataframe thead th {\n",
       "        text-align: right;\n",
       "    }\n",
       "</style>\n",
       "<table border=\"1\" class=\"dataframe\">\n",
       "  <thead>\n",
       "    <tr style=\"text-align: right;\">\n",
       "      <th></th>\n",
       "      <th>RowNumber_x</th>\n",
       "      <th>CustomerId</th>\n",
       "      <th>NumOfProducts</th>\n",
       "      <th>HasChckng</th>\n",
       "      <th>IsActiveMember</th>\n",
       "      <th>RowNumber_y</th>\n",
       "      <th>Tenure</th>\n",
       "      <th>CreditScore</th>\n",
       "      <th>Balance</th>\n",
       "      <th>EstimatedSalary</th>\n",
       "      <th>RowNumber_x</th>\n",
       "      <th>Surname</th>\n",
       "      <th>Geography</th>\n",
       "      <th>Gender</th>\n",
       "      <th>Age</th>\n",
       "      <th>RowNumber_y</th>\n",
       "      <th>Exited</th>\n",
       "    </tr>\n",
       "  </thead>\n",
       "  <tbody>\n",
       "    <tr>\n",
       "      <th>0</th>\n",
       "      <td>1288</td>\n",
       "      <td>15565701</td>\n",
       "      <td>1.0</td>\n",
       "      <td>0.0</td>\n",
       "      <td>0.0</td>\n",
       "      <td>1288</td>\n",
       "      <td>9.0</td>\n",
       "      <td>698.0</td>\n",
       "      <td>161993.89</td>\n",
       "      <td>90212.38</td>\n",
       "      <td>1288</td>\n",
       "      <td>Ferri</td>\n",
       "      <td>Central</td>\n",
       "      <td>Female</td>\n",
       "      <td>39.0</td>\n",
       "      <td>1288</td>\n",
       "      <td>0.0</td>\n",
       "    </tr>\n",
       "    <tr>\n",
       "      <th>1</th>\n",
       "      <td>4199</td>\n",
       "      <td>15565706</td>\n",
       "      <td>1.0</td>\n",
       "      <td>1.0</td>\n",
       "      <td>1.0</td>\n",
       "      <td>4199</td>\n",
       "      <td>1.0</td>\n",
       "      <td>612.0</td>\n",
       "      <td>NaN</td>\n",
       "      <td>83256.26</td>\n",
       "      <td>4199</td>\n",
       "      <td>Akobundu</td>\n",
       "      <td>Central</td>\n",
       "      <td>Male</td>\n",
       "      <td>35.0</td>\n",
       "      <td>4199</td>\n",
       "      <td>1.0</td>\n",
       "    </tr>\n",
       "    <tr>\n",
       "      <th>2</th>\n",
       "      <td>7091</td>\n",
       "      <td>15565714</td>\n",
       "      <td>2.0</td>\n",
       "      <td>0.0</td>\n",
       "      <td>1.0</td>\n",
       "      <td>7091</td>\n",
       "      <td>1.0</td>\n",
       "      <td>601.0</td>\n",
       "      <td>64430.06</td>\n",
       "      <td>96517.97</td>\n",
       "      <td>7091</td>\n",
       "      <td>Cattaneo</td>\n",
       "      <td>West</td>\n",
       "      <td>Male</td>\n",
       "      <td>47.0</td>\n",
       "      <td>7091</td>\n",
       "      <td>0.0</td>\n",
       "    </tr>\n",
       "    <tr>\n",
       "      <th>3</th>\n",
       "      <td>2021</td>\n",
       "      <td>15565779</td>\n",
       "      <td>1.0</td>\n",
       "      <td>1.0</td>\n",
       "      <td>0.0</td>\n",
       "      <td>2021</td>\n",
       "      <td>6.0</td>\n",
       "      <td>627.0</td>\n",
       "      <td>57809.32</td>\n",
       "      <td>188258.49</td>\n",
       "      <td>2021</td>\n",
       "      <td>Kent</td>\n",
       "      <td>East</td>\n",
       "      <td>Female</td>\n",
       "      <td>30.0</td>\n",
       "      <td>2021</td>\n",
       "      <td>0.0</td>\n",
       "    </tr>\n",
       "    <tr>\n",
       "      <th>4</th>\n",
       "      <td>3698</td>\n",
       "      <td>15565796</td>\n",
       "      <td>1.0</td>\n",
       "      <td>1.0</td>\n",
       "      <td>0.0</td>\n",
       "      <td>3698</td>\n",
       "      <td>10.0</td>\n",
       "      <td>745.0</td>\n",
       "      <td>96048.55</td>\n",
       "      <td>74510.65</td>\n",
       "      <td>3698</td>\n",
       "      <td>Docherty</td>\n",
       "      <td>East</td>\n",
       "      <td>Male</td>\n",
       "      <td>48.0</td>\n",
       "      <td>3698</td>\n",
       "      <td>0.0</td>\n",
       "    </tr>\n",
       "  </tbody>\n",
       "</table>\n",
       "</div>"
      ],
      "text/plain": [
       "   RowNumber_x  CustomerId  NumOfProducts  HasChckng  IsActiveMember  \\\n",
       "0         1288    15565701            1.0        0.0             0.0   \n",
       "1         4199    15565706            1.0        1.0             1.0   \n",
       "2         7091    15565714            2.0        0.0             1.0   \n",
       "3         2021    15565779            1.0        1.0             0.0   \n",
       "4         3698    15565796            1.0        1.0             0.0   \n",
       "\n",
       "   RowNumber_y  Tenure  CreditScore    Balance  EstimatedSalary  RowNumber_x  \\\n",
       "0         1288     9.0        698.0  161993.89         90212.38         1288   \n",
       "1         4199     1.0        612.0        NaN         83256.26         4199   \n",
       "2         7091     1.0        601.0   64430.06         96517.97         7091   \n",
       "3         2021     6.0        627.0   57809.32        188258.49         2021   \n",
       "4         3698    10.0        745.0   96048.55         74510.65         3698   \n",
       "\n",
       "    Surname Geography  Gender   Age  RowNumber_y  Exited  \n",
       "0     Ferri   Central  Female  39.0         1288     0.0  \n",
       "1  Akobundu   Central    Male  35.0         4199     1.0  \n",
       "2  Cattaneo      West    Male  47.0         7091     0.0  \n",
       "3      Kent      East  Female  30.0         2021     0.0  \n",
       "4  Docherty      East    Male  48.0         3698     0.0  "
      ]
     },
     "execution_count": 7,
     "metadata": {},
     "output_type": "execute_result"
    }
   ],
   "source": [
    "df_dummy1 = pd.merge((pd.merge((pd.merge(input1, input2, on='CustomerId')),input3, on='CustomerId')),input4, on='CustomerId')\n",
    "\n",
    "df_dummy1.head()"
   ]
  },
  {
   "cell_type": "code",
   "execution_count": 34,
   "metadata": {},
   "outputs": [],
   "source": [
    "df=df_dummy1.drop(['RowNumber_x', 'RowNumber_y'], axis = 1)"
   ]
  },
  {
   "cell_type": "code",
   "execution_count": 35,
   "metadata": {},
   "outputs": [
    {
     "data": {
      "text/html": [
       "<div>\n",
       "<style scoped>\n",
       "    .dataframe tbody tr th:only-of-type {\n",
       "        vertical-align: middle;\n",
       "    }\n",
       "\n",
       "    .dataframe tbody tr th {\n",
       "        vertical-align: top;\n",
       "    }\n",
       "\n",
       "    .dataframe thead th {\n",
       "        text-align: right;\n",
       "    }\n",
       "</style>\n",
       "<table border=\"1\" class=\"dataframe\">\n",
       "  <thead>\n",
       "    <tr style=\"text-align: right;\">\n",
       "      <th></th>\n",
       "      <th>CustomerId</th>\n",
       "      <th>NumOfProducts</th>\n",
       "      <th>HasChckng</th>\n",
       "      <th>IsActiveMember</th>\n",
       "      <th>Tenure</th>\n",
       "      <th>CreditScore</th>\n",
       "      <th>Balance</th>\n",
       "      <th>EstimatedSalary</th>\n",
       "      <th>Surname</th>\n",
       "      <th>Geography</th>\n",
       "      <th>Gender</th>\n",
       "      <th>Age</th>\n",
       "      <th>Exited</th>\n",
       "    </tr>\n",
       "  </thead>\n",
       "  <tbody>\n",
       "    <tr>\n",
       "      <th>0</th>\n",
       "      <td>15565701</td>\n",
       "      <td>1.0</td>\n",
       "      <td>0.0</td>\n",
       "      <td>0.0</td>\n",
       "      <td>9.0</td>\n",
       "      <td>698.0</td>\n",
       "      <td>161993.89</td>\n",
       "      <td>90212.38</td>\n",
       "      <td>Ferri</td>\n",
       "      <td>Central</td>\n",
       "      <td>Female</td>\n",
       "      <td>39.0</td>\n",
       "      <td>0.0</td>\n",
       "    </tr>\n",
       "    <tr>\n",
       "      <th>1</th>\n",
       "      <td>15565706</td>\n",
       "      <td>1.0</td>\n",
       "      <td>1.0</td>\n",
       "      <td>1.0</td>\n",
       "      <td>1.0</td>\n",
       "      <td>612.0</td>\n",
       "      <td>NaN</td>\n",
       "      <td>83256.26</td>\n",
       "      <td>Akobundu</td>\n",
       "      <td>Central</td>\n",
       "      <td>Male</td>\n",
       "      <td>35.0</td>\n",
       "      <td>1.0</td>\n",
       "    </tr>\n",
       "    <tr>\n",
       "      <th>2</th>\n",
       "      <td>15565714</td>\n",
       "      <td>2.0</td>\n",
       "      <td>0.0</td>\n",
       "      <td>1.0</td>\n",
       "      <td>1.0</td>\n",
       "      <td>601.0</td>\n",
       "      <td>64430.06</td>\n",
       "      <td>96517.97</td>\n",
       "      <td>Cattaneo</td>\n",
       "      <td>West</td>\n",
       "      <td>Male</td>\n",
       "      <td>47.0</td>\n",
       "      <td>0.0</td>\n",
       "    </tr>\n",
       "    <tr>\n",
       "      <th>3</th>\n",
       "      <td>15565779</td>\n",
       "      <td>1.0</td>\n",
       "      <td>1.0</td>\n",
       "      <td>0.0</td>\n",
       "      <td>6.0</td>\n",
       "      <td>627.0</td>\n",
       "      <td>57809.32</td>\n",
       "      <td>188258.49</td>\n",
       "      <td>Kent</td>\n",
       "      <td>East</td>\n",
       "      <td>Female</td>\n",
       "      <td>30.0</td>\n",
       "      <td>0.0</td>\n",
       "    </tr>\n",
       "    <tr>\n",
       "      <th>4</th>\n",
       "      <td>15565796</td>\n",
       "      <td>1.0</td>\n",
       "      <td>1.0</td>\n",
       "      <td>0.0</td>\n",
       "      <td>10.0</td>\n",
       "      <td>745.0</td>\n",
       "      <td>96048.55</td>\n",
       "      <td>74510.65</td>\n",
       "      <td>Docherty</td>\n",
       "      <td>East</td>\n",
       "      <td>Male</td>\n",
       "      <td>48.0</td>\n",
       "      <td>0.0</td>\n",
       "    </tr>\n",
       "  </tbody>\n",
       "</table>\n",
       "</div>"
      ],
      "text/plain": [
       "   CustomerId  NumOfProducts  HasChckng  IsActiveMember  Tenure  CreditScore  \\\n",
       "0    15565701            1.0        0.0             0.0     9.0        698.0   \n",
       "1    15565706            1.0        1.0             1.0     1.0        612.0   \n",
       "2    15565714            2.0        0.0             1.0     1.0        601.0   \n",
       "3    15565779            1.0        1.0             0.0     6.0        627.0   \n",
       "4    15565796            1.0        1.0             0.0    10.0        745.0   \n",
       "\n",
       "     Balance  EstimatedSalary   Surname Geography  Gender   Age  Exited  \n",
       "0  161993.89         90212.38     Ferri   Central  Female  39.0     0.0  \n",
       "1        NaN         83256.26  Akobundu   Central    Male  35.0     1.0  \n",
       "2   64430.06         96517.97  Cattaneo      West    Male  47.0     0.0  \n",
       "3   57809.32        188258.49      Kent      East  Female  30.0     0.0  \n",
       "4   96048.55         74510.65  Docherty      East    Male  48.0     0.0  "
      ]
     },
     "execution_count": 35,
     "metadata": {},
     "output_type": "execute_result"
    }
   ],
   "source": [
    "df.head()"
   ]
  },
  {
   "cell_type": "code",
   "execution_count": 36,
   "metadata": {},
   "outputs": [
    {
     "data": {
      "text/plain": [
       "0        False\n",
       "1        False\n",
       "2        False\n",
       "3        False\n",
       "4        False\n",
       "         ...  \n",
       "9997     False\n",
       "9998     False\n",
       "9999     False\n",
       "10000    False\n",
       "10001    False\n",
       "Length: 10002, dtype: bool"
      ]
     },
     "execution_count": 36,
     "metadata": {},
     "output_type": "execute_result"
    }
   ],
   "source": [
    "df.duplicated()"
   ]
  },
  {
   "cell_type": "code",
   "execution_count": 37,
   "metadata": {},
   "outputs": [
    {
     "data": {
      "text/html": [
       "<div>\n",
       "<style scoped>\n",
       "    .dataframe tbody tr th:only-of-type {\n",
       "        vertical-align: middle;\n",
       "    }\n",
       "\n",
       "    .dataframe tbody tr th {\n",
       "        vertical-align: top;\n",
       "    }\n",
       "\n",
       "    .dataframe thead th {\n",
       "        text-align: right;\n",
       "    }\n",
       "</style>\n",
       "<table border=\"1\" class=\"dataframe\">\n",
       "  <thead>\n",
       "    <tr style=\"text-align: right;\">\n",
       "      <th></th>\n",
       "      <th>CustomerId</th>\n",
       "      <th>NumOfProducts</th>\n",
       "      <th>HasChckng</th>\n",
       "      <th>IsActiveMember</th>\n",
       "      <th>Tenure</th>\n",
       "      <th>CreditScore</th>\n",
       "      <th>Balance</th>\n",
       "      <th>EstimatedSalary</th>\n",
       "      <th>Age</th>\n",
       "      <th>Exited</th>\n",
       "    </tr>\n",
       "  </thead>\n",
       "  <tbody>\n",
       "    <tr>\n",
       "      <th>count</th>\n",
       "      <td>1.000200e+04</td>\n",
       "      <td>10002.000000</td>\n",
       "      <td>10002.000000</td>\n",
       "      <td>10002.000000</td>\n",
       "      <td>10002.000000</td>\n",
       "      <td>9999.00000</td>\n",
       "      <td>6385.000000</td>\n",
       "      <td>10002.000000</td>\n",
       "      <td>10002.000000</td>\n",
       "      <td>10002.000000</td>\n",
       "    </tr>\n",
       "    <tr>\n",
       "      <th>mean</th>\n",
       "      <td>1.569097e+07</td>\n",
       "      <td>1.530494</td>\n",
       "      <td>0.705359</td>\n",
       "      <td>0.514997</td>\n",
       "      <td>5.014797</td>\n",
       "      <td>650.50075</td>\n",
       "      <td>119841.627383</td>\n",
       "      <td>100105.624356</td>\n",
       "      <td>38.943711</td>\n",
       "      <td>0.203859</td>\n",
       "    </tr>\n",
       "    <tr>\n",
       "      <th>std</th>\n",
       "      <td>7.195055e+04</td>\n",
       "      <td>0.581967</td>\n",
       "      <td>0.455904</td>\n",
       "      <td>0.499800</td>\n",
       "      <td>2.902953</td>\n",
       "      <td>96.69932</td>\n",
       "      <td>30100.935329</td>\n",
       "      <td>57515.031841</td>\n",
       "      <td>10.612675</td>\n",
       "      <td>0.402886</td>\n",
       "    </tr>\n",
       "    <tr>\n",
       "      <th>min</th>\n",
       "      <td>1.556570e+07</td>\n",
       "      <td>1.000000</td>\n",
       "      <td>0.000000</td>\n",
       "      <td>0.000000</td>\n",
       "      <td>0.000000</td>\n",
       "      <td>305.00000</td>\n",
       "      <td>3768.690000</td>\n",
       "      <td>11.580000</td>\n",
       "      <td>18.000000</td>\n",
       "      <td>0.000000</td>\n",
       "    </tr>\n",
       "    <tr>\n",
       "      <th>25%</th>\n",
       "      <td>1.562854e+07</td>\n",
       "      <td>1.000000</td>\n",
       "      <td>0.000000</td>\n",
       "      <td>0.000000</td>\n",
       "      <td>3.000000</td>\n",
       "      <td>584.00000</td>\n",
       "      <td>100194.440000</td>\n",
       "      <td>51012.472500</td>\n",
       "      <td>32.000000</td>\n",
       "      <td>0.000000</td>\n",
       "    </tr>\n",
       "    <tr>\n",
       "      <th>50%</th>\n",
       "      <td>1.569074e+07</td>\n",
       "      <td>1.000000</td>\n",
       "      <td>1.000000</td>\n",
       "      <td>1.000000</td>\n",
       "      <td>5.000000</td>\n",
       "      <td>652.00000</td>\n",
       "      <td>119852.010000</td>\n",
       "      <td>100218.210000</td>\n",
       "      <td>37.000000</td>\n",
       "      <td>0.000000</td>\n",
       "    </tr>\n",
       "    <tr>\n",
       "      <th>75%</th>\n",
       "      <td>1.575331e+07</td>\n",
       "      <td>2.000000</td>\n",
       "      <td>1.000000</td>\n",
       "      <td>1.000000</td>\n",
       "      <td>7.000000</td>\n",
       "      <td>717.50000</td>\n",
       "      <td>139529.930000</td>\n",
       "      <td>149400.922500</td>\n",
       "      <td>44.000000</td>\n",
       "      <td>0.000000</td>\n",
       "    </tr>\n",
       "    <tr>\n",
       "      <th>max</th>\n",
       "      <td>1.581569e+07</td>\n",
       "      <td>4.000000</td>\n",
       "      <td>1.000000</td>\n",
       "      <td>1.000000</td>\n",
       "      <td>30.000000</td>\n",
       "      <td>865.00000</td>\n",
       "      <td>250898.090000</td>\n",
       "      <td>199992.480000</td>\n",
       "      <td>190.000000</td>\n",
       "      <td>1.000000</td>\n",
       "    </tr>\n",
       "  </tbody>\n",
       "</table>\n",
       "</div>"
      ],
      "text/plain": [
       "         CustomerId  NumOfProducts     HasChckng  IsActiveMember  \\\n",
       "count  1.000200e+04   10002.000000  10002.000000    10002.000000   \n",
       "mean   1.569097e+07       1.530494      0.705359        0.514997   \n",
       "std    7.195055e+04       0.581967      0.455904        0.499800   \n",
       "min    1.556570e+07       1.000000      0.000000        0.000000   \n",
       "25%    1.562854e+07       1.000000      0.000000        0.000000   \n",
       "50%    1.569074e+07       1.000000      1.000000        1.000000   \n",
       "75%    1.575331e+07       2.000000      1.000000        1.000000   \n",
       "max    1.581569e+07       4.000000      1.000000        1.000000   \n",
       "\n",
       "             Tenure  CreditScore        Balance  EstimatedSalary  \\\n",
       "count  10002.000000   9999.00000    6385.000000     10002.000000   \n",
       "mean       5.014797    650.50075  119841.627383    100105.624356   \n",
       "std        2.902953     96.69932   30100.935329     57515.031841   \n",
       "min        0.000000    305.00000    3768.690000        11.580000   \n",
       "25%        3.000000    584.00000  100194.440000     51012.472500   \n",
       "50%        5.000000    652.00000  119852.010000    100218.210000   \n",
       "75%        7.000000    717.50000  139529.930000    149400.922500   \n",
       "max       30.000000    865.00000  250898.090000    199992.480000   \n",
       "\n",
       "                Age        Exited  \n",
       "count  10002.000000  10002.000000  \n",
       "mean      38.943711      0.203859  \n",
       "std       10.612675      0.402886  \n",
       "min       18.000000      0.000000  \n",
       "25%       32.000000      0.000000  \n",
       "50%       37.000000      0.000000  \n",
       "75%       44.000000      0.000000  \n",
       "max      190.000000      1.000000  "
      ]
     },
     "execution_count": 37,
     "metadata": {},
     "output_type": "execute_result"
    }
   ],
   "source": [
    "df.describe()"
   ]
  },
  {
   "cell_type": "markdown",
   "metadata": {},
   "source": [
    "## Checking for True duplicates in Data"
   ]
  },
  {
   "cell_type": "code",
   "execution_count": 38,
   "metadata": {},
   "outputs": [
    {
     "data": {
      "text/html": [
       "<div>\n",
       "<style scoped>\n",
       "    .dataframe tbody tr th:only-of-type {\n",
       "        vertical-align: middle;\n",
       "    }\n",
       "\n",
       "    .dataframe tbody tr th {\n",
       "        vertical-align: top;\n",
       "    }\n",
       "\n",
       "    .dataframe thead th {\n",
       "        text-align: right;\n",
       "    }\n",
       "</style>\n",
       "<table border=\"1\" class=\"dataframe\">\n",
       "  <thead>\n",
       "    <tr style=\"text-align: right;\">\n",
       "      <th></th>\n",
       "      <th>CustomerId</th>\n",
       "      <th>NumOfProducts</th>\n",
       "      <th>HasChckng</th>\n",
       "      <th>IsActiveMember</th>\n",
       "      <th>Tenure</th>\n",
       "      <th>CreditScore</th>\n",
       "      <th>Balance</th>\n",
       "      <th>EstimatedSalary</th>\n",
       "      <th>Surname</th>\n",
       "      <th>Geography</th>\n",
       "      <th>Gender</th>\n",
       "      <th>Age</th>\n",
       "      <th>Exited</th>\n",
       "    </tr>\n",
       "  </thead>\n",
       "  <tbody>\n",
       "    <tr>\n",
       "      <th>9989</th>\n",
       "      <td>15815490</td>\n",
       "      <td>3.0</td>\n",
       "      <td>0.0</td>\n",
       "      <td>0.0</td>\n",
       "      <td>2.0</td>\n",
       "      <td>670.0</td>\n",
       "      <td>164948.98</td>\n",
       "      <td>177028.0</td>\n",
       "      <td>Cocci</td>\n",
       "      <td>East</td>\n",
       "      <td>Male</td>\n",
       "      <td>40.0</td>\n",
       "      <td>1.0</td>\n",
       "    </tr>\n",
       "    <tr>\n",
       "      <th>9990</th>\n",
       "      <td>15815490</td>\n",
       "      <td>3.0</td>\n",
       "      <td>0.0</td>\n",
       "      <td>0.0</td>\n",
       "      <td>2.0</td>\n",
       "      <td>670.0</td>\n",
       "      <td>164948.98</td>\n",
       "      <td>177028.0</td>\n",
       "      <td>Cocci</td>\n",
       "      <td>East</td>\n",
       "      <td>Male</td>\n",
       "      <td>40.0</td>\n",
       "      <td>1.0</td>\n",
       "    </tr>\n",
       "  </tbody>\n",
       "</table>\n",
       "</div>"
      ],
      "text/plain": [
       "      CustomerId  NumOfProducts  HasChckng  IsActiveMember  Tenure  \\\n",
       "9989    15815490            3.0        0.0             0.0     2.0   \n",
       "9990    15815490            3.0        0.0             0.0     2.0   \n",
       "\n",
       "      CreditScore    Balance  EstimatedSalary Surname Geography Gender   Age  \\\n",
       "9989        670.0  164948.98         177028.0   Cocci      East   Male  40.0   \n",
       "9990        670.0  164948.98         177028.0   Cocci      East   Male  40.0   \n",
       "\n",
       "      Exited  \n",
       "9989     1.0  \n",
       "9990     1.0  "
      ]
     },
     "execution_count": 38,
     "metadata": {},
     "output_type": "execute_result"
    }
   ],
   "source": [
    "df[df[['CustomerId', 'Surname', 'CreditScore', 'Geography', 'Gender', 'Age', 'Tenure', 'Balance',\n",
    "       'NumOfProducts', 'HasChckng', 'IsActiveMember', 'EstimatedSalary', 'Exited']].duplicated() == True]"
   ]
  },
  {
   "cell_type": "code",
   "execution_count": 39,
   "metadata": {},
   "outputs": [],
   "source": [
    "subset = ['CustomerId', 'Surname', 'CreditScore', 'Geography', 'Gender', 'Age', 'Tenure', 'Balance',\n",
    "       'NumOfProducts', 'HasChckng', 'IsActiveMember', 'EstimatedSalary', 'Exited']"
   ]
  },
  {
   "cell_type": "code",
   "execution_count": 40,
   "metadata": {},
   "outputs": [],
   "source": [
    "df=df.drop_duplicates(subset,keep = 'last').reset_index(drop = True)"
   ]
  },
  {
   "cell_type": "code",
   "execution_count": 41,
   "metadata": {},
   "outputs": [
    {
     "data": {
      "text/html": [
       "<div>\n",
       "<style scoped>\n",
       "    .dataframe tbody tr th:only-of-type {\n",
       "        vertical-align: middle;\n",
       "    }\n",
       "\n",
       "    .dataframe tbody tr th {\n",
       "        vertical-align: top;\n",
       "    }\n",
       "\n",
       "    .dataframe thead th {\n",
       "        text-align: right;\n",
       "    }\n",
       "</style>\n",
       "<table border=\"1\" class=\"dataframe\">\n",
       "  <thead>\n",
       "    <tr style=\"text-align: right;\">\n",
       "      <th></th>\n",
       "      <th>CustomerId</th>\n",
       "      <th>NumOfProducts</th>\n",
       "      <th>HasChckng</th>\n",
       "      <th>IsActiveMember</th>\n",
       "      <th>Tenure</th>\n",
       "      <th>CreditScore</th>\n",
       "      <th>Balance</th>\n",
       "      <th>EstimatedSalary</th>\n",
       "      <th>Surname</th>\n",
       "      <th>Geography</th>\n",
       "      <th>Gender</th>\n",
       "      <th>Age</th>\n",
       "      <th>Exited</th>\n",
       "    </tr>\n",
       "  </thead>\n",
       "  <tbody>\n",
       "  </tbody>\n",
       "</table>\n",
       "</div>"
      ],
      "text/plain": [
       "Empty DataFrame\n",
       "Columns: [CustomerId, NumOfProducts, HasChckng, IsActiveMember, Tenure, CreditScore, Balance, EstimatedSalary, Surname, Geography, Gender, Age, Exited]\n",
       "Index: []"
      ]
     },
     "execution_count": 41,
     "metadata": {},
     "output_type": "execute_result"
    }
   ],
   "source": [
    "df[df[['CustomerId']].duplicated() == True]"
   ]
  },
  {
   "cell_type": "code",
   "execution_count": 42,
   "metadata": {},
   "outputs": [
    {
     "name": "stdout",
     "output_type": "stream",
     "text": [
      "Empty DataFrame\n",
      "Columns: [CustomerId, NumOfProducts, HasChckng, IsActiveMember, Tenure, CreditScore, Balance, EstimatedSalary, Surname, Geography, Gender, Age, Exited]\n",
      "Index: []\n"
     ]
    }
   ],
   "source": [
    "duplicateDFRow = df[df.duplicated()]\n",
    "print(duplicateDFRow)"
   ]
  },
  {
   "cell_type": "markdown",
   "metadata": {},
   "source": [
    "## Statistical overview of data"
   ]
  },
  {
   "cell_type": "code",
   "execution_count": 43,
   "metadata": {},
   "outputs": [
    {
     "data": {
      "text/plain": [
       "(10000, 13)"
      ]
     },
     "execution_count": 43,
     "metadata": {},
     "output_type": "execute_result"
    }
   ],
   "source": [
    "# data conatins 14 columns and 10,000 datapoints\n",
    "df.shape"
   ]
  },
  {
   "cell_type": "code",
   "execution_count": 44,
   "metadata": {},
   "outputs": [
    {
     "data": {
      "text/plain": [
       "array(['Female', 'Male', 'Neutral'], dtype=object)"
      ]
     },
     "execution_count": 44,
     "metadata": {},
     "output_type": "execute_result"
    }
   ],
   "source": [
    "df.Gender.unique()"
   ]
  },
  {
   "cell_type": "code",
   "execution_count": 45,
   "metadata": {},
   "outputs": [
    {
     "data": {
      "text/plain": [
       "array([0., 1.])"
      ]
     },
     "execution_count": 45,
     "metadata": {},
     "output_type": "execute_result"
    }
   ],
   "source": [
    "df.IsActiveMember.unique()"
   ]
  },
  {
   "cell_type": "code",
   "execution_count": 46,
   "metadata": {},
   "outputs": [
    {
     "data": {
      "text/plain": [
       "CustomerId            0\n",
       "NumOfProducts         0\n",
       "HasChckng             0\n",
       "IsActiveMember        0\n",
       "Tenure                0\n",
       "CreditScore           3\n",
       "Balance            3617\n",
       "EstimatedSalary       0\n",
       "Surname               0\n",
       "Geography             0\n",
       "Gender                0\n",
       "Age                   0\n",
       "Exited                0\n",
       "dtype: int64"
      ]
     },
     "execution_count": 46,
     "metadata": {},
     "output_type": "execute_result"
    }
   ],
   "source": [
    "#checking the missing values across columns\n",
    "\n",
    "df.isnull().sum()"
   ]
  },
  {
   "cell_type": "code",
   "execution_count": 47,
   "metadata": {},
   "outputs": [
    {
     "data": {
      "text/plain": [
       "CustomerId         0.001149\n",
       "NumOfProducts      0.745568\n",
       "HasChckng         -0.901812\n",
       "IsActiveMember    -0.060437\n",
       "Tenure             0.071980\n",
       "CreditScore       -0.074910\n",
       "Balance            0.025624\n",
       "EstimatedSalary    0.002085\n",
       "Age                1.278170\n",
       "Exited             1.471611\n",
       "dtype: float64"
      ]
     },
     "execution_count": 47,
     "metadata": {},
     "output_type": "execute_result"
    }
   ],
   "source": [
    "#checking how the data have been distributed (symmetrical or asymmetrical)\n",
    "df.skew()"
   ]
  },
  {
   "cell_type": "code",
   "execution_count": 48,
   "metadata": {},
   "outputs": [
    {
     "data": {
      "text/plain": [
       "<AxesSubplot:xlabel='CreditScore', ylabel='Density'>"
      ]
     },
     "execution_count": 48,
     "metadata": {},
     "output_type": "execute_result"
    },
    {
     "data": {
      "image/png": "[encoded data removed]",
      "text/plain": [
       "<Figure size 432x288 with 1 Axes>"
      ]
     },
     "metadata": {
      "needs_background": "light"
     },
     "output_type": "display_data"
    }
   ],
   "source": [
    "#CreditScore have 3 missing values within it and from below graph, it looks symmetrical with a skewness of -0.075\n",
    "\n",
    "sns.distplot(df['CreditScore'])"
   ]
  },
  {
   "cell_type": "code",
   "execution_count": 49,
   "metadata": {},
   "outputs": [
    {
     "data": {
      "text/plain": [
       "<AxesSubplot:xlabel='Balance', ylabel='Density'>"
      ]
     },
     "execution_count": 49,
     "metadata": {},
     "output_type": "execute_result"
    },
    {
     "data": {
      "image/png": "[encoded data removed]",
      "text/plain": [
       "<Figure size 432x288 with 1 Axes>"
      ]
     },
     "metadata": {
      "needs_background": "light"
     },
     "output_type": "display_data"
    }
   ],
   "source": [
    "sns.distplot(df['Balance'])"
   ]
  },
  {
   "cell_type": "code",
   "execution_count": 50,
   "metadata": {},
   "outputs": [
    {
     "data": {
      "text/plain": [
       "<AxesSubplot:xlabel='EstimatedSalary'>"
      ]
     },
     "execution_count": 50,
     "metadata": {},
     "output_type": "execute_result"
    },
    {
     "data": {
      "image/png": "[encoded data removed]",
      "text/plain": [
       "<Figure size 1080x576 with 4 Axes>"
      ]
     },
     "metadata": {
      "needs_background": "light"
     },
     "output_type": "display_data"
    }
   ],
   "source": [
    "fig,axs = plt.subplots(2, 2, figsize=(15, 8))\n",
    "sns.boxplot(data=df, x=\"CreditScore\", color=\"skyblue\", ax=axs[0, 0])\n",
    "sns.boxplot(data=df, x=\"Tenure\", color=\"olive\", ax=axs[0, 1])\n",
    "sns.boxplot(data=df, x=\"Balance\", color=\"gold\", ax=axs[1, 0])\n",
    "sns.boxplot(data=df, x=\"EstimatedSalary\", color=\"teal\", ax=axs[1, 1])\n",
    "\n"
   ]
  },
  {
   "cell_type": "code",
   "execution_count": 51,
   "metadata": {},
   "outputs": [
    {
     "data": {
      "text/plain": [
       "<AxesSubplot:xlabel='CreditScore', ylabel='Gender'>"
      ]
     },
     "execution_count": 51,
     "metadata": {},
     "output_type": "execute_result"
    },
    {
     "data": {
      "image/png": "[encoded data removed]",
      "text/plain": [
       "<Figure size 1440x720 with 1 Axes>"
      ]
     },
     "metadata": {
      "needs_background": "light"
     },
     "output_type": "display_data"
    }
   ],
   "source": [
    "#Analysis distribution of credit score across genders\n",
    "\n",
    "f = plt.figure(figsize=(20, 10))\n",
    "sns.boxplot(x='CreditScore', y='Gender', data=df, orient=\"h\", width=0.6)"
   ]
  },
  {
   "cell_type": "code",
   "execution_count": 52,
   "metadata": {},
   "outputs": [
    {
     "data": {
      "image/png": "[encoded data removed]",
      "text/plain": [
       "<Figure size 1440x720 with 2 Axes>"
      ]
     },
     "metadata": {
      "needs_background": "light"
     },
     "output_type": "display_data"
    }
   ],
   "source": [
    "#Checking the collinearity between features\n",
    "\n",
    "plt.figure(figsize = (20, 10))\n",
    "corr = df.corr()\n",
    "sns.heatmap(corr, cmap=\"YlGnBu\", annot = True,linewidths = 0.5,)\n",
    "plt.show()"
   ]
  },
  {
   "cell_type": "markdown",
   "metadata": {},
   "source": [
    "From the statistical of overview of data, we found out that the data is almost symmetrical across columns except couple of features like age, HasChcng where skewness is not in range of [-0.5,0.5]\n",
    "\n"
   ]
  },
  {
   "cell_type": "markdown",
   "metadata": {},
   "source": [
    "# Missing value imputation for CreditScore feature"
   ]
  },
  {
   "cell_type": "markdown",
   "metadata": {},
   "source": [
    "Since the data spread for CreditScore is symmetrical with a skewness of -0.075, we will impute the missing values with it's mean"
   ]
  },
  {
   "cell_type": "code",
   "execution_count": 53,
   "metadata": {},
   "outputs": [],
   "source": [
    "#First let's analyse the data with missing Credit Score\n",
    "\n",
    "df_missing = df[df['CreditScore'].isna()]"
   ]
  },
  {
   "cell_type": "code",
   "execution_count": 54,
   "metadata": {},
   "outputs": [
    {
     "data": {
      "text/html": [
       "<div>\n",
       "<style scoped>\n",
       "    .dataframe tbody tr th:only-of-type {\n",
       "        vertical-align: middle;\n",
       "    }\n",
       "\n",
       "    .dataframe tbody tr th {\n",
       "        vertical-align: top;\n",
       "    }\n",
       "\n",
       "    .dataframe thead th {\n",
       "        text-align: right;\n",
       "    }\n",
       "</style>\n",
       "<table border=\"1\" class=\"dataframe\">\n",
       "  <thead>\n",
       "    <tr style=\"text-align: right;\">\n",
       "      <th></th>\n",
       "      <th>CustomerId</th>\n",
       "      <th>NumOfProducts</th>\n",
       "      <th>HasChckng</th>\n",
       "      <th>IsActiveMember</th>\n",
       "      <th>Tenure</th>\n",
       "      <th>CreditScore</th>\n",
       "      <th>Balance</th>\n",
       "      <th>EstimatedSalary</th>\n",
       "      <th>Surname</th>\n",
       "      <th>Geography</th>\n",
       "      <th>Gender</th>\n",
       "      <th>Age</th>\n",
       "      <th>Exited</th>\n",
       "    </tr>\n",
       "  </thead>\n",
       "  <tbody>\n",
       "    <tr>\n",
       "      <th>1508</th>\n",
       "      <td>15604119</td>\n",
       "      <td>1.0</td>\n",
       "      <td>0.0</td>\n",
       "      <td>0.0</td>\n",
       "      <td>7.0</td>\n",
       "      <td>NaN</td>\n",
       "      <td>110349.82</td>\n",
       "      <td>126355.80</td>\n",
       "      <td>Alderete</td>\n",
       "      <td>Central</td>\n",
       "      <td>Male</td>\n",
       "      <td>35.0</td>\n",
       "      <td>0.0</td>\n",
       "    </tr>\n",
       "    <tr>\n",
       "      <th>3878</th>\n",
       "      <td>15662976</td>\n",
       "      <td>1.0</td>\n",
       "      <td>1.0</td>\n",
       "      <td>1.0</td>\n",
       "      <td>8.0</td>\n",
       "      <td>NaN</td>\n",
       "      <td>NaN</td>\n",
       "      <td>186062.36</td>\n",
       "      <td>Lettiere</td>\n",
       "      <td>Central</td>\n",
       "      <td>Male</td>\n",
       "      <td>37.0</td>\n",
       "      <td>0.0</td>\n",
       "    </tr>\n",
       "    <tr>\n",
       "      <th>6726</th>\n",
       "      <td>15733616</td>\n",
       "      <td>1.0</td>\n",
       "      <td>1.0</td>\n",
       "      <td>1.0</td>\n",
       "      <td>5.0</td>\n",
       "      <td>NaN</td>\n",
       "      <td>80613.93</td>\n",
       "      <td>142838.64</td>\n",
       "      <td>Sopuluchukwu</td>\n",
       "      <td>West</td>\n",
       "      <td>Male</td>\n",
       "      <td>40.0</td>\n",
       "      <td>0.0</td>\n",
       "    </tr>\n",
       "  </tbody>\n",
       "</table>\n",
       "</div>"
      ],
      "text/plain": [
       "      CustomerId  NumOfProducts  HasChckng  IsActiveMember  Tenure  \\\n",
       "1508    15604119            1.0        0.0             0.0     7.0   \n",
       "3878    15662976            1.0        1.0             1.0     8.0   \n",
       "6726    15733616            1.0        1.0             1.0     5.0   \n",
       "\n",
       "      CreditScore    Balance  EstimatedSalary       Surname Geography Gender  \\\n",
       "1508          NaN  110349.82        126355.80      Alderete   Central   Male   \n",
       "3878          NaN        NaN        186062.36      Lettiere   Central   Male   \n",
       "6726          NaN   80613.93        142838.64  Sopuluchukwu      West   Male   \n",
       "\n",
       "       Age  Exited  \n",
       "1508  35.0     0.0  \n",
       "3878  37.0     0.0  \n",
       "6726  40.0     0.0  "
      ]
     },
     "execution_count": 54,
     "metadata": {},
     "output_type": "execute_result"
    }
   ],
   "source": [
    "df_missing"
   ]
  },
  {
   "cell_type": "markdown",
   "metadata": {},
   "source": [
    "## Imputing missing values with mean"
   ]
  },
  {
   "cell_type": "code",
   "execution_count": 55,
   "metadata": {},
   "outputs": [],
   "source": [
    "#Using mean to impute the missing values\n",
    "missing_col = ['CreditScore']\n",
    "for i in missing_col:\n",
    "    df.loc[df.loc[:,i].isnull(),i]=df.loc[:,i].mean()"
   ]
  },
  {
   "cell_type": "code",
   "execution_count": 56,
   "metadata": {},
   "outputs": [
    {
     "data": {
      "text/plain": [
       "CustomerId            0\n",
       "NumOfProducts         0\n",
       "HasChckng             0\n",
       "IsActiveMember        0\n",
       "Tenure                0\n",
       "CreditScore           0\n",
       "Balance            3617\n",
       "EstimatedSalary       0\n",
       "Surname               0\n",
       "Geography             0\n",
       "Gender                0\n",
       "Age                   0\n",
       "Exited                0\n",
       "dtype: int64"
      ]
     },
     "execution_count": 56,
     "metadata": {},
     "output_type": "execute_result"
    }
   ],
   "source": [
    "#checking the missing values after imputation\n",
    "df.isnull().sum()"
   ]
  },
  {
   "cell_type": "markdown",
   "metadata": {},
   "source": [
    "# Missing value imputation for Balance feature"
   ]
  },
  {
   "cell_type": "code",
   "execution_count": 58,
   "metadata": {},
   "outputs": [],
   "source": [
    "#Using mean to impute the missing values\n",
    "missing_col = ['Balance']\n",
    "for i in missing_col:\n",
    "    df.loc[df.loc[:,i].isnull(),i]=df.loc[:,i].mean()"
   ]
  },
  {
   "cell_type": "code",
   "execution_count": 60,
   "metadata": {},
   "outputs": [
    {
     "data": {
      "text/plain": [
       "CustomerId         0\n",
       "NumOfProducts      0\n",
       "HasChckng          0\n",
       "IsActiveMember     0\n",
       "Tenure             0\n",
       "CreditScore        0\n",
       "Balance            0\n",
       "EstimatedSalary    0\n",
       "Surname            0\n",
       "Geography          0\n",
       "Gender             0\n",
       "Age                0\n",
       "Exited             0\n",
       "dtype: int64"
      ]
     },
     "execution_count": 60,
     "metadata": {},
     "output_type": "execute_result"
    }
   ],
   "source": [
    "#checking the missing values after imputation\n",
    "df.isnull().sum()"
   ]
  },
  {
   "cell_type": "markdown",
   "metadata": {},
   "source": [
    "Till this step, we have handled the missing values and did a basic stat check for collinearity and spread of data across dataset.\n",
    "\n",
    "# Analysis statistics on clients attrition rate"
   ]
  },
  {
   "cell_type": "code",
   "execution_count": 61,
   "metadata": {},
   "outputs": [
    {
     "data": {
      "text/plain": [
       "<AxesSubplot:xlabel='Exited', ylabel='count'>"
      ]
     },
     "execution_count": 61,
     "metadata": {},
     "output_type": "execute_result"
    },
    {
     "data": {
      "image/png": "[encoded data removed]",
      "text/plain": [
       "<Figure size 360x360 with 1 Axes>"
      ]
     },
     "metadata": {
      "needs_background": "light"
     },
     "output_type": "display_data"
    }
   ],
   "source": [
    "# count \n",
    "plt.figure(figsize = (5, 5))\n",
    "sns.countplot(x=\"Exited\",data=df, hue=\"Exited\")"
   ]
  },
  {
   "cell_type": "code",
   "execution_count": 62,
   "metadata": {},
   "outputs": [
    {
     "data": {
      "image/png": "[encoded data removed]",
      "text/plain": [
       "<Figure size 1440x720 with 2 Axes>"
      ]
     },
     "metadata": {
      "needs_background": "light"
     },
     "output_type": "display_data"
    }
   ],
   "source": [
    "plt.figure(figsize = (20, 10))\n",
    "corr = df.corr()\n",
    "sns.heatmap(corr, cmap=\"YlGnBu\", annot = True,linewidths = 0.5,)\n",
    "plt.show()"
   ]
  },
  {
   "cell_type": "code",
   "execution_count": 47,
   "metadata": {},
   "outputs": [
    {
     "data": {
      "text/plain": [
       "<AxesSubplot:xlabel='Exited', ylabel='IsActiveMember'>"
      ]
     },
     "execution_count": 47,
     "metadata": {},
     "output_type": "execute_result"
    },
    {
     "data": {
      "image/png": "[encoded data removed]",
      "text/plain": [
       "<Figure size 1440x1440 with 6 Axes>"
      ]
     },
     "metadata": {
      "needs_background": "light"
     },
     "output_type": "display_data"
    }
   ],
   "source": [
    "#Plotting the different bar charts to analyze data\n",
    "\n",
    "fig, ax = plt.subplots(3, 2, figsize = (20, 20))\n",
    "sns.barplot(x=\"Exited\", y=\"Balance\",hue=\"Tenure\", data=df,ax = ax[0][0])\n",
    "sns.barplot(x=\"Exited\", y=\"EstimatedSalary\",hue=\"Tenure\", data=df,ax = ax[0][1])\n",
    "sns.barplot(x=\"Exited\", y=\"Tenure\",hue=\"Gender\", data=df,ax = ax[1][0])\n",
    "sns.barplot(x=\"Exited\", y=\"Tenure\",hue=\"Gender\", data=df,ax = ax[1][1])\n",
    "sns.barplot(x=\"Exited\", y=\"HasChckng\",hue=\"Tenure\", data=df,ax = ax[2][0])\n",
    "sns.barplot(x=\"Exited\", y=\"IsActiveMember\",hue=\"Tenure\", data=df,ax = ax[2][1])\n"
   ]
  },
  {
   "cell_type": "code",
   "execution_count": 48,
   "metadata": {},
   "outputs": [
    {
     "data": {
      "image/png": "[encoded data removed]",
      "text/plain": [
       "<Figure size 1296x1080 with 6 Axes>"
      ]
     },
     "metadata": {
      "needs_background": "light"
     },
     "output_type": "display_data"
    }
   ],
   "source": [
    "# Analysing categorical variables to see the trend of customers got churned\n",
    "\n",
    "fig, ax = plt.subplots(3, 2, figsize = (18, 15))\n",
    "\n",
    "sns.countplot('Geography', hue = 'Exited', data = df, ax = ax[0][0],palette=\"Set2\")\n",
    "sns.countplot('Gender', hue = 'Exited', data = df, ax = ax[0][1],palette=\"Set2\")\n",
    "sns.countplot('Tenure', hue = 'Exited', data = df, ax = ax[1][0],palette=\"Set2\")\n",
    "sns.countplot('NumOfProducts', hue = 'Exited', data = df, ax = ax[1][1],palette=\"Set2\")\n",
    "sns.countplot('HasChckng', hue = 'Exited', data = df, ax = ax[2][0],palette=\"Set2\")\n",
    "sns.countplot('IsActiveMember', hue = 'Exited', data = df, ax = ax[2][1],palette=\"Set2\")\n",
    "\n",
    "plt.tight_layout()\n",
    "plt.show()"
   ]
  },
  {
   "cell_type": "code",
   "execution_count": 66,
   "metadata": {},
   "outputs": [
    {
     "data": {
      "image/png": "[encoded data removed]",
      "text/plain": [
       "<Figure size 2160x576 with 1 Axes>"
      ]
     },
     "metadata": {
      "needs_background": "light"
     },
     "output_type": "display_data"
    }
   ],
   "source": [
    "plt.figure(figsize = (30, 8))\n",
    "sns.countplot(x=\"Age\",data=df, hue=\"Exited\")\n",
    "plt.show()"
   ]
  },
  {
   "cell_type": "markdown",
   "metadata": {},
   "source": [
    "# Bonus Contents wrt to Advance analytics"
   ]
  },
  {
   "cell_type": "code",
   "execution_count": 68,
   "metadata": {},
   "outputs": [],
   "source": [
    "# lets remove the columns from dataframe which are just identifiers (non-essential columns)\n",
    "df1=df.drop(['CustomerId','Surname'],axis=1)"
   ]
  },
  {
   "cell_type": "code",
   "execution_count": 69,
   "metadata": {},
   "outputs": [
    {
     "data": {
      "text/html": [
       "<div>\n",
       "<style scoped>\n",
       "    .dataframe tbody tr th:only-of-type {\n",
       "        vertical-align: middle;\n",
       "    }\n",
       "\n",
       "    .dataframe tbody tr th {\n",
       "        vertical-align: top;\n",
       "    }\n",
       "\n",
       "    .dataframe thead th {\n",
       "        text-align: right;\n",
       "    }\n",
       "</style>\n",
       "<table border=\"1\" class=\"dataframe\">\n",
       "  <thead>\n",
       "    <tr style=\"text-align: right;\">\n",
       "      <th></th>\n",
       "      <th>NumOfProducts</th>\n",
       "      <th>HasChckng</th>\n",
       "      <th>IsActiveMember</th>\n",
       "      <th>Tenure</th>\n",
       "      <th>CreditScore</th>\n",
       "      <th>Balance</th>\n",
       "      <th>EstimatedSalary</th>\n",
       "      <th>Geography</th>\n",
       "      <th>Gender</th>\n",
       "      <th>Age</th>\n",
       "      <th>Exited</th>\n",
       "    </tr>\n",
       "  </thead>\n",
       "  <tbody>\n",
       "    <tr>\n",
       "      <th>0</th>\n",
       "      <td>1.0</td>\n",
       "      <td>0.0</td>\n",
       "      <td>0.0</td>\n",
       "      <td>9.0</td>\n",
       "      <td>698.0</td>\n",
       "      <td>161993.890000</td>\n",
       "      <td>90212.38</td>\n",
       "      <td>Central</td>\n",
       "      <td>Female</td>\n",
       "      <td>39.0</td>\n",
       "      <td>0.0</td>\n",
       "    </tr>\n",
       "    <tr>\n",
       "      <th>1</th>\n",
       "      <td>1.0</td>\n",
       "      <td>1.0</td>\n",
       "      <td>1.0</td>\n",
       "      <td>1.0</td>\n",
       "      <td>612.0</td>\n",
       "      <td>119827.493793</td>\n",
       "      <td>83256.26</td>\n",
       "      <td>Central</td>\n",
       "      <td>Male</td>\n",
       "      <td>35.0</td>\n",
       "      <td>1.0</td>\n",
       "    </tr>\n",
       "    <tr>\n",
       "      <th>2</th>\n",
       "      <td>2.0</td>\n",
       "      <td>0.0</td>\n",
       "      <td>1.0</td>\n",
       "      <td>1.0</td>\n",
       "      <td>601.0</td>\n",
       "      <td>64430.060000</td>\n",
       "      <td>96517.97</td>\n",
       "      <td>West</td>\n",
       "      <td>Male</td>\n",
       "      <td>47.0</td>\n",
       "      <td>0.0</td>\n",
       "    </tr>\n",
       "    <tr>\n",
       "      <th>3</th>\n",
       "      <td>1.0</td>\n",
       "      <td>1.0</td>\n",
       "      <td>0.0</td>\n",
       "      <td>6.0</td>\n",
       "      <td>627.0</td>\n",
       "      <td>57809.320000</td>\n",
       "      <td>188258.49</td>\n",
       "      <td>East</td>\n",
       "      <td>Female</td>\n",
       "      <td>30.0</td>\n",
       "      <td>0.0</td>\n",
       "    </tr>\n",
       "    <tr>\n",
       "      <th>4</th>\n",
       "      <td>1.0</td>\n",
       "      <td>1.0</td>\n",
       "      <td>0.0</td>\n",
       "      <td>10.0</td>\n",
       "      <td>745.0</td>\n",
       "      <td>96048.550000</td>\n",
       "      <td>74510.65</td>\n",
       "      <td>East</td>\n",
       "      <td>Male</td>\n",
       "      <td>48.0</td>\n",
       "      <td>0.0</td>\n",
       "    </tr>\n",
       "  </tbody>\n",
       "</table>\n",
       "</div>"
      ],
      "text/plain": [
       "   NumOfProducts  HasChckng  IsActiveMember  Tenure  CreditScore  \\\n",
       "0            1.0        0.0             0.0     9.0        698.0   \n",
       "1            1.0        1.0             1.0     1.0        612.0   \n",
       "2            2.0        0.0             1.0     1.0        601.0   \n",
       "3            1.0        1.0             0.0     6.0        627.0   \n",
       "4            1.0        1.0             0.0    10.0        745.0   \n",
       "\n",
       "         Balance  EstimatedSalary Geography  Gender   Age  Exited  \n",
       "0  161993.890000         90212.38   Central  Female  39.0     0.0  \n",
       "1  119827.493793         83256.26   Central    Male  35.0     1.0  \n",
       "2   64430.060000         96517.97      West    Male  47.0     0.0  \n",
       "3   57809.320000        188258.49      East  Female  30.0     0.0  \n",
       "4   96048.550000         74510.65      East    Male  48.0     0.0  "
      ]
     },
     "execution_count": 69,
     "metadata": {},
     "output_type": "execute_result"
    }
   ],
   "source": [
    "df1.head()"
   ]
  },
  {
   "cell_type": "markdown",
   "metadata": {},
   "source": [
    "Using One Hot Encoding For Geography and Gender feature"
   ]
  },
  {
   "cell_type": "code",
   "execution_count": 81,
   "metadata": {},
   "outputs": [
    {
     "data": {
      "text/html": [
       "<div>\n",
       "<style scoped>\n",
       "    .dataframe tbody tr th:only-of-type {\n",
       "        vertical-align: middle;\n",
       "    }\n",
       "\n",
       "    .dataframe tbody tr th {\n",
       "        vertical-align: top;\n",
       "    }\n",
       "\n",
       "    .dataframe thead th {\n",
       "        text-align: right;\n",
       "    }\n",
       "</style>\n",
       "<table border=\"1\" class=\"dataframe\">\n",
       "  <thead>\n",
       "    <tr style=\"text-align: right;\">\n",
       "      <th></th>\n",
       "      <th>NumOfProducts</th>\n",
       "      <th>HasChckng</th>\n",
       "      <th>IsActiveMember</th>\n",
       "      <th>Tenure</th>\n",
       "      <th>CreditScore</th>\n",
       "      <th>Balance</th>\n",
       "      <th>EstimatedSalary</th>\n",
       "      <th>Geography</th>\n",
       "      <th>Gender</th>\n",
       "      <th>Age</th>\n",
       "      <th>Exited</th>\n",
       "      <th>0</th>\n",
       "      <th>1</th>\n",
       "      <th>2</th>\n",
       "      <th>3</th>\n",
       "      <th>4</th>\n",
       "      <th>5</th>\n",
       "    </tr>\n",
       "  </thead>\n",
       "  <tbody>\n",
       "    <tr>\n",
       "      <th>0</th>\n",
       "      <td>1.0</td>\n",
       "      <td>0.0</td>\n",
       "      <td>0.0</td>\n",
       "      <td>9.0</td>\n",
       "      <td>698.0</td>\n",
       "      <td>161993.890000</td>\n",
       "      <td>90212.38</td>\n",
       "      <td>Central</td>\n",
       "      <td>Female</td>\n",
       "      <td>39.0</td>\n",
       "      <td>0.0</td>\n",
       "      <td>1.0</td>\n",
       "      <td>0.0</td>\n",
       "      <td>0.0</td>\n",
       "      <td>1.0</td>\n",
       "      <td>0.0</td>\n",
       "      <td>0.0</td>\n",
       "    </tr>\n",
       "    <tr>\n",
       "      <th>1</th>\n",
       "      <td>1.0</td>\n",
       "      <td>1.0</td>\n",
       "      <td>1.0</td>\n",
       "      <td>1.0</td>\n",
       "      <td>612.0</td>\n",
       "      <td>119827.493793</td>\n",
       "      <td>83256.26</td>\n",
       "      <td>Central</td>\n",
       "      <td>Male</td>\n",
       "      <td>35.0</td>\n",
       "      <td>1.0</td>\n",
       "      <td>1.0</td>\n",
       "      <td>0.0</td>\n",
       "      <td>0.0</td>\n",
       "      <td>0.0</td>\n",
       "      <td>1.0</td>\n",
       "      <td>0.0</td>\n",
       "    </tr>\n",
       "    <tr>\n",
       "      <th>2</th>\n",
       "      <td>2.0</td>\n",
       "      <td>0.0</td>\n",
       "      <td>1.0</td>\n",
       "      <td>1.0</td>\n",
       "      <td>601.0</td>\n",
       "      <td>64430.060000</td>\n",
       "      <td>96517.97</td>\n",
       "      <td>West</td>\n",
       "      <td>Male</td>\n",
       "      <td>47.0</td>\n",
       "      <td>0.0</td>\n",
       "      <td>0.0</td>\n",
       "      <td>0.0</td>\n",
       "      <td>1.0</td>\n",
       "      <td>0.0</td>\n",
       "      <td>1.0</td>\n",
       "      <td>0.0</td>\n",
       "    </tr>\n",
       "    <tr>\n",
       "      <th>3</th>\n",
       "      <td>1.0</td>\n",
       "      <td>1.0</td>\n",
       "      <td>0.0</td>\n",
       "      <td>6.0</td>\n",
       "      <td>627.0</td>\n",
       "      <td>57809.320000</td>\n",
       "      <td>188258.49</td>\n",
       "      <td>East</td>\n",
       "      <td>Female</td>\n",
       "      <td>30.0</td>\n",
       "      <td>0.0</td>\n",
       "      <td>0.0</td>\n",
       "      <td>1.0</td>\n",
       "      <td>0.0</td>\n",
       "      <td>1.0</td>\n",
       "      <td>0.0</td>\n",
       "      <td>0.0</td>\n",
       "    </tr>\n",
       "    <tr>\n",
       "      <th>4</th>\n",
       "      <td>1.0</td>\n",
       "      <td>1.0</td>\n",
       "      <td>0.0</td>\n",
       "      <td>10.0</td>\n",
       "      <td>745.0</td>\n",
       "      <td>96048.550000</td>\n",
       "      <td>74510.65</td>\n",
       "      <td>East</td>\n",
       "      <td>Male</td>\n",
       "      <td>48.0</td>\n",
       "      <td>0.0</td>\n",
       "      <td>0.0</td>\n",
       "      <td>1.0</td>\n",
       "      <td>0.0</td>\n",
       "      <td>0.0</td>\n",
       "      <td>1.0</td>\n",
       "      <td>0.0</td>\n",
       "    </tr>\n",
       "  </tbody>\n",
       "</table>\n",
       "</div>"
      ],
      "text/plain": [
       "   NumOfProducts  HasChckng  IsActiveMember  Tenure  CreditScore  \\\n",
       "0            1.0        0.0             0.0     9.0        698.0   \n",
       "1            1.0        1.0             1.0     1.0        612.0   \n",
       "2            2.0        0.0             1.0     1.0        601.0   \n",
       "3            1.0        1.0             0.0     6.0        627.0   \n",
       "4            1.0        1.0             0.0    10.0        745.0   \n",
       "\n",
       "         Balance  EstimatedSalary Geography  Gender   Age  Exited    0    1  \\\n",
       "0  161993.890000         90212.38   Central  Female  39.0     0.0  1.0  0.0   \n",
       "1  119827.493793         83256.26   Central    Male  35.0     1.0  1.0  0.0   \n",
       "2   64430.060000         96517.97      West    Male  47.0     0.0  0.0  0.0   \n",
       "3   57809.320000        188258.49      East  Female  30.0     0.0  0.0  1.0   \n",
       "4   96048.550000         74510.65      East    Male  48.0     0.0  0.0  1.0   \n",
       "\n",
       "     2    3    4    5  \n",
       "0  0.0  1.0  0.0  0.0  \n",
       "1  0.0  0.0  1.0  0.0  \n",
       "2  1.0  0.0  1.0  0.0  \n",
       "3  0.0  1.0  0.0  0.0  \n",
       "4  0.0  0.0  1.0  0.0  "
      ]
     },
     "execution_count": 81,
     "metadata": {},
     "output_type": "execute_result"
    }
   ],
   "source": [
    "# importing one hot encoder from sklearn\n",
    "from sklearn.preprocessing import OneHotEncoder\n",
    "from sklearn.compose import ColumnTransformer\n",
    "\n",
    "# creating instance of one-hot-encoder\n",
    "enc = OneHotEncoder(handle_unknown='ignore')\n",
    "\n",
    "enc_df = pd.DataFrame(enc.fit_transform(df1[['Geography','Gender']]).toarray())\n",
    "\n",
    "df2 = df1.join(enc_df)\n",
    "df2.head()"
   ]
  },
  {
   "cell_type": "markdown",
   "metadata": {},
   "source": [
    "### understanding OneHotEncoding"
   ]
  },
  {
   "cell_type": "code",
   "execution_count": 70,
   "metadata": {},
   "outputs": [
    {
     "data": {
      "text/html": [
       "<div>\n",
       "<style scoped>\n",
       "    .dataframe tbody tr th:only-of-type {\n",
       "        vertical-align: middle;\n",
       "    }\n",
       "\n",
       "    .dataframe tbody tr th {\n",
       "        vertical-align: top;\n",
       "    }\n",
       "\n",
       "    .dataframe thead th {\n",
       "        text-align: right;\n",
       "    }\n",
       "</style>\n",
       "<table border=\"1\" class=\"dataframe\">\n",
       "  <thead>\n",
       "    <tr style=\"text-align: right;\">\n",
       "      <th></th>\n",
       "      <th>Central</th>\n",
       "      <th>East</th>\n",
       "      <th>West</th>\n",
       "    </tr>\n",
       "  </thead>\n",
       "  <tbody>\n",
       "    <tr>\n",
       "      <th>0</th>\n",
       "      <td>1</td>\n",
       "      <td>0</td>\n",
       "      <td>0</td>\n",
       "    </tr>\n",
       "    <tr>\n",
       "      <th>1</th>\n",
       "      <td>1</td>\n",
       "      <td>0</td>\n",
       "      <td>0</td>\n",
       "    </tr>\n",
       "    <tr>\n",
       "      <th>2</th>\n",
       "      <td>0</td>\n",
       "      <td>0</td>\n",
       "      <td>1</td>\n",
       "    </tr>\n",
       "    <tr>\n",
       "      <th>3</th>\n",
       "      <td>0</td>\n",
       "      <td>1</td>\n",
       "      <td>0</td>\n",
       "    </tr>\n",
       "    <tr>\n",
       "      <th>4</th>\n",
       "      <td>0</td>\n",
       "      <td>1</td>\n",
       "      <td>0</td>\n",
       "    </tr>\n",
       "  </tbody>\n",
       "</table>\n",
       "</div>"
      ],
      "text/plain": [
       "   Central  East  West\n",
       "0        1     0     0\n",
       "1        1     0     0\n",
       "2        0     0     1\n",
       "3        0     1     0\n",
       "4        0     1     0"
      ]
     },
     "execution_count": 70,
     "metadata": {},
     "output_type": "execute_result"
    }
   ],
   "source": [
    "dummies1 = pd.get_dummies(df.Geography)\n",
    "dummies1.head(5)"
   ]
  },
  {
   "cell_type": "code",
   "execution_count": 71,
   "metadata": {},
   "outputs": [
    {
     "data": {
      "text/html": [
       "<div>\n",
       "<style scoped>\n",
       "    .dataframe tbody tr th:only-of-type {\n",
       "        vertical-align: middle;\n",
       "    }\n",
       "\n",
       "    .dataframe tbody tr th {\n",
       "        vertical-align: top;\n",
       "    }\n",
       "\n",
       "    .dataframe thead th {\n",
       "        text-align: right;\n",
       "    }\n",
       "</style>\n",
       "<table border=\"1\" class=\"dataframe\">\n",
       "  <thead>\n",
       "    <tr style=\"text-align: right;\">\n",
       "      <th></th>\n",
       "      <th>Female</th>\n",
       "      <th>Male</th>\n",
       "      <th>Neutral</th>\n",
       "    </tr>\n",
       "  </thead>\n",
       "  <tbody>\n",
       "    <tr>\n",
       "      <th>0</th>\n",
       "      <td>1</td>\n",
       "      <td>0</td>\n",
       "      <td>0</td>\n",
       "    </tr>\n",
       "    <tr>\n",
       "      <th>1</th>\n",
       "      <td>0</td>\n",
       "      <td>1</td>\n",
       "      <td>0</td>\n",
       "    </tr>\n",
       "    <tr>\n",
       "      <th>2</th>\n",
       "      <td>0</td>\n",
       "      <td>1</td>\n",
       "      <td>0</td>\n",
       "    </tr>\n",
       "    <tr>\n",
       "      <th>3</th>\n",
       "      <td>1</td>\n",
       "      <td>0</td>\n",
       "      <td>0</td>\n",
       "    </tr>\n",
       "    <tr>\n",
       "      <th>4</th>\n",
       "      <td>0</td>\n",
       "      <td>1</td>\n",
       "      <td>0</td>\n",
       "    </tr>\n",
       "  </tbody>\n",
       "</table>\n",
       "</div>"
      ],
      "text/plain": [
       "   Female  Male  Neutral\n",
       "0       1     0        0\n",
       "1       0     1        0\n",
       "2       0     1        0\n",
       "3       1     0        0\n",
       "4       0     1        0"
      ]
     },
     "execution_count": 71,
     "metadata": {},
     "output_type": "execute_result"
    }
   ],
   "source": [
    "dummies2 = pd.get_dummies(df.Gender)\n",
    "dummies2.head(5)"
   ]
  },
  {
   "cell_type": "code",
   "execution_count": 73,
   "metadata": {},
   "outputs": [
    {
     "data": {
      "text/html": [
       "<div>\n",
       "<style scoped>\n",
       "    .dataframe tbody tr th:only-of-type {\n",
       "        vertical-align: middle;\n",
       "    }\n",
       "\n",
       "    .dataframe tbody tr th {\n",
       "        vertical-align: top;\n",
       "    }\n",
       "\n",
       "    .dataframe thead th {\n",
       "        text-align: right;\n",
       "    }\n",
       "</style>\n",
       "<table border=\"1\" class=\"dataframe\">\n",
       "  <thead>\n",
       "    <tr style=\"text-align: right;\">\n",
       "      <th></th>\n",
       "      <th>NumOfProducts</th>\n",
       "      <th>HasChckng</th>\n",
       "      <th>IsActiveMember</th>\n",
       "      <th>Tenure</th>\n",
       "      <th>CreditScore</th>\n",
       "      <th>Balance</th>\n",
       "      <th>EstimatedSalary</th>\n",
       "      <th>Geography</th>\n",
       "      <th>Gender</th>\n",
       "      <th>Age</th>\n",
       "      <th>Exited</th>\n",
       "      <th>Central</th>\n",
       "      <th>East</th>\n",
       "      <th>West</th>\n",
       "      <th>Female</th>\n",
       "      <th>Male</th>\n",
       "      <th>Neutral</th>\n",
       "    </tr>\n",
       "  </thead>\n",
       "  <tbody>\n",
       "    <tr>\n",
       "      <th>0</th>\n",
       "      <td>1.0</td>\n",
       "      <td>0.0</td>\n",
       "      <td>0.0</td>\n",
       "      <td>9.0</td>\n",
       "      <td>698.0</td>\n",
       "      <td>161993.890000</td>\n",
       "      <td>90212.38</td>\n",
       "      <td>Central</td>\n",
       "      <td>Female</td>\n",
       "      <td>39.0</td>\n",
       "      <td>0.0</td>\n",
       "      <td>1</td>\n",
       "      <td>0</td>\n",
       "      <td>0</td>\n",
       "      <td>1</td>\n",
       "      <td>0</td>\n",
       "      <td>0</td>\n",
       "    </tr>\n",
       "    <tr>\n",
       "      <th>1</th>\n",
       "      <td>1.0</td>\n",
       "      <td>1.0</td>\n",
       "      <td>1.0</td>\n",
       "      <td>1.0</td>\n",
       "      <td>612.0</td>\n",
       "      <td>119827.493793</td>\n",
       "      <td>83256.26</td>\n",
       "      <td>Central</td>\n",
       "      <td>Male</td>\n",
       "      <td>35.0</td>\n",
       "      <td>1.0</td>\n",
       "      <td>1</td>\n",
       "      <td>0</td>\n",
       "      <td>0</td>\n",
       "      <td>0</td>\n",
       "      <td>1</td>\n",
       "      <td>0</td>\n",
       "    </tr>\n",
       "    <tr>\n",
       "      <th>2</th>\n",
       "      <td>2.0</td>\n",
       "      <td>0.0</td>\n",
       "      <td>1.0</td>\n",
       "      <td>1.0</td>\n",
       "      <td>601.0</td>\n",
       "      <td>64430.060000</td>\n",
       "      <td>96517.97</td>\n",
       "      <td>West</td>\n",
       "      <td>Male</td>\n",
       "      <td>47.0</td>\n",
       "      <td>0.0</td>\n",
       "      <td>0</td>\n",
       "      <td>0</td>\n",
       "      <td>1</td>\n",
       "      <td>0</td>\n",
       "      <td>1</td>\n",
       "      <td>0</td>\n",
       "    </tr>\n",
       "    <tr>\n",
       "      <th>3</th>\n",
       "      <td>1.0</td>\n",
       "      <td>1.0</td>\n",
       "      <td>0.0</td>\n",
       "      <td>6.0</td>\n",
       "      <td>627.0</td>\n",
       "      <td>57809.320000</td>\n",
       "      <td>188258.49</td>\n",
       "      <td>East</td>\n",
       "      <td>Female</td>\n",
       "      <td>30.0</td>\n",
       "      <td>0.0</td>\n",
       "      <td>0</td>\n",
       "      <td>1</td>\n",
       "      <td>0</td>\n",
       "      <td>1</td>\n",
       "      <td>0</td>\n",
       "      <td>0</td>\n",
       "    </tr>\n",
       "    <tr>\n",
       "      <th>4</th>\n",
       "      <td>1.0</td>\n",
       "      <td>1.0</td>\n",
       "      <td>0.0</td>\n",
       "      <td>10.0</td>\n",
       "      <td>745.0</td>\n",
       "      <td>96048.550000</td>\n",
       "      <td>74510.65</td>\n",
       "      <td>East</td>\n",
       "      <td>Male</td>\n",
       "      <td>48.0</td>\n",
       "      <td>0.0</td>\n",
       "      <td>0</td>\n",
       "      <td>1</td>\n",
       "      <td>0</td>\n",
       "      <td>0</td>\n",
       "      <td>1</td>\n",
       "      <td>0</td>\n",
       "    </tr>\n",
       "  </tbody>\n",
       "</table>\n",
       "</div>"
      ],
      "text/plain": [
       "   NumOfProducts  HasChckng  IsActiveMember  Tenure  CreditScore  \\\n",
       "0            1.0        0.0             0.0     9.0        698.0   \n",
       "1            1.0        1.0             1.0     1.0        612.0   \n",
       "2            2.0        0.0             1.0     1.0        601.0   \n",
       "3            1.0        1.0             0.0     6.0        627.0   \n",
       "4            1.0        1.0             0.0    10.0        745.0   \n",
       "\n",
       "         Balance  EstimatedSalary Geography  Gender   Age  Exited  Central  \\\n",
       "0  161993.890000         90212.38   Central  Female  39.0     0.0        1   \n",
       "1  119827.493793         83256.26   Central    Male  35.0     1.0        1   \n",
       "2   64430.060000         96517.97      West    Male  47.0     0.0        0   \n",
       "3   57809.320000        188258.49      East  Female  30.0     0.0        0   \n",
       "4   96048.550000         74510.65      East    Male  48.0     0.0        0   \n",
       "\n",
       "   East  West  Female  Male  Neutral  \n",
       "0     0     0       1     0        0  \n",
       "1     0     0       0     1        0  \n",
       "2     0     1       0     1        0  \n",
       "3     1     0       1     0        0  \n",
       "4     1     0       0     1        0  "
      ]
     },
     "execution_count": 73,
     "metadata": {},
     "output_type": "execute_result"
    }
   ],
   "source": [
    "#Merging dummies dataframes with main dataframe to get categorical features for Gender and Geography\n",
    "\n",
    "df_input = pd.concat([df1,dummies1,dummies2],axis='columns')\n",
    "df_input.head()"
   ]
  },
  {
   "cell_type": "code",
   "execution_count": 74,
   "metadata": {},
   "outputs": [
    {
     "data": {
      "text/html": [
       "<div>\n",
       "<style scoped>\n",
       "    .dataframe tbody tr th:only-of-type {\n",
       "        vertical-align: middle;\n",
       "    }\n",
       "\n",
       "    .dataframe tbody tr th {\n",
       "        vertical-align: top;\n",
       "    }\n",
       "\n",
       "    .dataframe thead th {\n",
       "        text-align: right;\n",
       "    }\n",
       "</style>\n",
       "<table border=\"1\" class=\"dataframe\">\n",
       "  <thead>\n",
       "    <tr style=\"text-align: right;\">\n",
       "      <th></th>\n",
       "      <th>NumOfProducts</th>\n",
       "      <th>HasChckng</th>\n",
       "      <th>IsActiveMember</th>\n",
       "      <th>Tenure</th>\n",
       "      <th>CreditScore</th>\n",
       "      <th>Balance</th>\n",
       "      <th>EstimatedSalary</th>\n",
       "      <th>Age</th>\n",
       "      <th>Exited</th>\n",
       "      <th>Central</th>\n",
       "      <th>East</th>\n",
       "      <th>West</th>\n",
       "      <th>Female</th>\n",
       "      <th>Male</th>\n",
       "      <th>Neutral</th>\n",
       "    </tr>\n",
       "  </thead>\n",
       "  <tbody>\n",
       "    <tr>\n",
       "      <th>0</th>\n",
       "      <td>1.0</td>\n",
       "      <td>0.0</td>\n",
       "      <td>0.0</td>\n",
       "      <td>9.0</td>\n",
       "      <td>698.0</td>\n",
       "      <td>161993.890000</td>\n",
       "      <td>90212.38</td>\n",
       "      <td>39.0</td>\n",
       "      <td>0.0</td>\n",
       "      <td>1</td>\n",
       "      <td>0</td>\n",
       "      <td>0</td>\n",
       "      <td>1</td>\n",
       "      <td>0</td>\n",
       "      <td>0</td>\n",
       "    </tr>\n",
       "    <tr>\n",
       "      <th>1</th>\n",
       "      <td>1.0</td>\n",
       "      <td>1.0</td>\n",
       "      <td>1.0</td>\n",
       "      <td>1.0</td>\n",
       "      <td>612.0</td>\n",
       "      <td>119827.493793</td>\n",
       "      <td>83256.26</td>\n",
       "      <td>35.0</td>\n",
       "      <td>1.0</td>\n",
       "      <td>1</td>\n",
       "      <td>0</td>\n",
       "      <td>0</td>\n",
       "      <td>0</td>\n",
       "      <td>1</td>\n",
       "      <td>0</td>\n",
       "    </tr>\n",
       "    <tr>\n",
       "      <th>2</th>\n",
       "      <td>2.0</td>\n",
       "      <td>0.0</td>\n",
       "      <td>1.0</td>\n",
       "      <td>1.0</td>\n",
       "      <td>601.0</td>\n",
       "      <td>64430.060000</td>\n",
       "      <td>96517.97</td>\n",
       "      <td>47.0</td>\n",
       "      <td>0.0</td>\n",
       "      <td>0</td>\n",
       "      <td>0</td>\n",
       "      <td>1</td>\n",
       "      <td>0</td>\n",
       "      <td>1</td>\n",
       "      <td>0</td>\n",
       "    </tr>\n",
       "    <tr>\n",
       "      <th>3</th>\n",
       "      <td>1.0</td>\n",
       "      <td>1.0</td>\n",
       "      <td>0.0</td>\n",
       "      <td>6.0</td>\n",
       "      <td>627.0</td>\n",
       "      <td>57809.320000</td>\n",
       "      <td>188258.49</td>\n",
       "      <td>30.0</td>\n",
       "      <td>0.0</td>\n",
       "      <td>0</td>\n",
       "      <td>1</td>\n",
       "      <td>0</td>\n",
       "      <td>1</td>\n",
       "      <td>0</td>\n",
       "      <td>0</td>\n",
       "    </tr>\n",
       "    <tr>\n",
       "      <th>4</th>\n",
       "      <td>1.0</td>\n",
       "      <td>1.0</td>\n",
       "      <td>0.0</td>\n",
       "      <td>10.0</td>\n",
       "      <td>745.0</td>\n",
       "      <td>96048.550000</td>\n",
       "      <td>74510.65</td>\n",
       "      <td>48.0</td>\n",
       "      <td>0.0</td>\n",
       "      <td>0</td>\n",
       "      <td>1</td>\n",
       "      <td>0</td>\n",
       "      <td>0</td>\n",
       "      <td>1</td>\n",
       "      <td>0</td>\n",
       "    </tr>\n",
       "  </tbody>\n",
       "</table>\n",
       "</div>"
      ],
      "text/plain": [
       "   NumOfProducts  HasChckng  IsActiveMember  Tenure  CreditScore  \\\n",
       "0            1.0        0.0             0.0     9.0        698.0   \n",
       "1            1.0        1.0             1.0     1.0        612.0   \n",
       "2            2.0        0.0             1.0     1.0        601.0   \n",
       "3            1.0        1.0             0.0     6.0        627.0   \n",
       "4            1.0        1.0             0.0    10.0        745.0   \n",
       "\n",
       "         Balance  EstimatedSalary   Age  Exited  Central  East  West  Female  \\\n",
       "0  161993.890000         90212.38  39.0     0.0        1     0     0       1   \n",
       "1  119827.493793         83256.26  35.0     1.0        1     0     0       0   \n",
       "2   64430.060000         96517.97  47.0     0.0        0     0     1       0   \n",
       "3   57809.320000        188258.49  30.0     0.0        0     1     0       1   \n",
       "4   96048.550000         74510.65  48.0     0.0        0     1     0       0   \n",
       "\n",
       "   Male  Neutral  \n",
       "0     0        0  \n",
       "1     1        0  \n",
       "2     1        0  \n",
       "3     0        0  \n",
       "4     1        0  "
      ]
     },
     "execution_count": 74,
     "metadata": {},
     "output_type": "execute_result"
    }
   ],
   "source": [
    "#Dropping duplicated features for Gender and Geography\n",
    "\n",
    "df_input = df_input.drop('Geography',axis='columns')\n",
    "df_input = df_input.drop('Gender',axis='columns')\n",
    "df_input.head()"
   ]
  },
  {
   "cell_type": "code",
   "execution_count": 75,
   "metadata": {},
   "outputs": [
    {
     "data": {
      "text/html": [
       "<div>\n",
       "<style scoped>\n",
       "    .dataframe tbody tr th:only-of-type {\n",
       "        vertical-align: middle;\n",
       "    }\n",
       "\n",
       "    .dataframe tbody tr th {\n",
       "        vertical-align: top;\n",
       "    }\n",
       "\n",
       "    .dataframe thead th {\n",
       "        text-align: right;\n",
       "    }\n",
       "</style>\n",
       "<table border=\"1\" class=\"dataframe\">\n",
       "  <thead>\n",
       "    <tr style=\"text-align: right;\">\n",
       "      <th></th>\n",
       "      <th>NumOfProducts</th>\n",
       "      <th>HasChckng</th>\n",
       "      <th>IsActiveMember</th>\n",
       "      <th>Tenure</th>\n",
       "      <th>CreditScore</th>\n",
       "      <th>Balance</th>\n",
       "      <th>EstimatedSalary</th>\n",
       "      <th>Age</th>\n",
       "      <th>Central</th>\n",
       "      <th>East</th>\n",
       "      <th>West</th>\n",
       "      <th>Female</th>\n",
       "      <th>Male</th>\n",
       "      <th>Neutral</th>\n",
       "    </tr>\n",
       "  </thead>\n",
       "  <tbody>\n",
       "    <tr>\n",
       "      <th>0</th>\n",
       "      <td>1.0</td>\n",
       "      <td>0.0</td>\n",
       "      <td>0.0</td>\n",
       "      <td>9.0</td>\n",
       "      <td>698.0</td>\n",
       "      <td>161993.890000</td>\n",
       "      <td>90212.38</td>\n",
       "      <td>39.0</td>\n",
       "      <td>1</td>\n",
       "      <td>0</td>\n",
       "      <td>0</td>\n",
       "      <td>1</td>\n",
       "      <td>0</td>\n",
       "      <td>0</td>\n",
       "    </tr>\n",
       "    <tr>\n",
       "      <th>1</th>\n",
       "      <td>1.0</td>\n",
       "      <td>1.0</td>\n",
       "      <td>1.0</td>\n",
       "      <td>1.0</td>\n",
       "      <td>612.0</td>\n",
       "      <td>119827.493793</td>\n",
       "      <td>83256.26</td>\n",
       "      <td>35.0</td>\n",
       "      <td>1</td>\n",
       "      <td>0</td>\n",
       "      <td>0</td>\n",
       "      <td>0</td>\n",
       "      <td>1</td>\n",
       "      <td>0</td>\n",
       "    </tr>\n",
       "    <tr>\n",
       "      <th>2</th>\n",
       "      <td>2.0</td>\n",
       "      <td>0.0</td>\n",
       "      <td>1.0</td>\n",
       "      <td>1.0</td>\n",
       "      <td>601.0</td>\n",
       "      <td>64430.060000</td>\n",
       "      <td>96517.97</td>\n",
       "      <td>47.0</td>\n",
       "      <td>0</td>\n",
       "      <td>0</td>\n",
       "      <td>1</td>\n",
       "      <td>0</td>\n",
       "      <td>1</td>\n",
       "      <td>0</td>\n",
       "    </tr>\n",
       "    <tr>\n",
       "      <th>3</th>\n",
       "      <td>1.0</td>\n",
       "      <td>1.0</td>\n",
       "      <td>0.0</td>\n",
       "      <td>6.0</td>\n",
       "      <td>627.0</td>\n",
       "      <td>57809.320000</td>\n",
       "      <td>188258.49</td>\n",
       "      <td>30.0</td>\n",
       "      <td>0</td>\n",
       "      <td>1</td>\n",
       "      <td>0</td>\n",
       "      <td>1</td>\n",
       "      <td>0</td>\n",
       "      <td>0</td>\n",
       "    </tr>\n",
       "    <tr>\n",
       "      <th>4</th>\n",
       "      <td>1.0</td>\n",
       "      <td>1.0</td>\n",
       "      <td>0.0</td>\n",
       "      <td>10.0</td>\n",
       "      <td>745.0</td>\n",
       "      <td>96048.550000</td>\n",
       "      <td>74510.65</td>\n",
       "      <td>48.0</td>\n",
       "      <td>0</td>\n",
       "      <td>1</td>\n",
       "      <td>0</td>\n",
       "      <td>0</td>\n",
       "      <td>1</td>\n",
       "      <td>0</td>\n",
       "    </tr>\n",
       "  </tbody>\n",
       "</table>\n",
       "</div>"
      ],
      "text/plain": [
       "   NumOfProducts  HasChckng  IsActiveMember  Tenure  CreditScore  \\\n",
       "0            1.0        0.0             0.0     9.0        698.0   \n",
       "1            1.0        1.0             1.0     1.0        612.0   \n",
       "2            2.0        0.0             1.0     1.0        601.0   \n",
       "3            1.0        1.0             0.0     6.0        627.0   \n",
       "4            1.0        1.0             0.0    10.0        745.0   \n",
       "\n",
       "         Balance  EstimatedSalary   Age  Central  East  West  Female  Male  \\\n",
       "0  161993.890000         90212.38  39.0        1     0     0       1     0   \n",
       "1  119827.493793         83256.26  35.0        1     0     0       0     1   \n",
       "2   64430.060000         96517.97  47.0        0     0     1       0     1   \n",
       "3   57809.320000        188258.49  30.0        0     1     0       1     0   \n",
       "4   96048.550000         74510.65  48.0        0     1     0       0     1   \n",
       "\n",
       "   Neutral  \n",
       "0        0  \n",
       "1        0  \n",
       "2        0  \n",
       "3        0  \n",
       "4        0  "
      ]
     },
     "execution_count": 75,
     "metadata": {},
     "output_type": "execute_result"
    }
   ],
   "source": [
    "# Removing the dependent variable from dataframe/ creating the independent dataframes which will be input to model\n",
    "\n",
    "X=df_input.drop('Exited',axis='columns')\n",
    "X.head(5)"
   ]
  },
  {
   "cell_type": "code",
   "execution_count": 76,
   "metadata": {},
   "outputs": [
    {
     "data": {
      "text/plain": [
       "(10000, 14)"
      ]
     },
     "execution_count": 76,
     "metadata": {},
     "output_type": "execute_result"
    }
   ],
   "source": [
    "X.shape"
   ]
  },
  {
   "cell_type": "markdown",
   "metadata": {},
   "source": [
    "### A gist of Machine Learning Algorithm (To get the importance of EDA)"
   ]
  },
  {
   "cell_type": "code",
   "execution_count": 77,
   "metadata": {},
   "outputs": [
    {
     "data": {
      "text/plain": [
       "0    0.0\n",
       "1    1.0\n",
       "2    0.0\n",
       "3    0.0\n",
       "4    0.0\n",
       "Name: Exited, dtype: float64"
      ]
     },
     "execution_count": 77,
     "metadata": {},
     "output_type": "execute_result"
    }
   ],
   "source": [
    "# Removing the independent variables from dataframe/ creating the dependent dataframes which will be input to model \n",
    "# for testing and validating the model\n",
    "\n",
    "\n",
    "y=df_input.Exited\n",
    "y.head(5)"
   ]
  },
  {
   "cell_type": "code",
   "execution_count": 78,
   "metadata": {},
   "outputs": [],
   "source": [
    "#creating the train test split\n",
    "\n",
    "from sklearn.model_selection import train_test_split\n",
    "X_train, X_test, y_train, y_test = train_test_split(X,y,test_size=0.25,random_state=1)"
   ]
  },
  {
   "cell_type": "code",
   "execution_count": 84,
   "metadata": {},
   "outputs": [
    {
     "data": {
      "text/plain": [
       "array([0.7892, 0.7768, 0.7876, 0.784 , 0.7952])"
      ]
     },
     "execution_count": 84,
     "metadata": {},
     "output_type": "execute_result"
    }
   ],
   "source": [
    "# Using K Fold cross validation to measure accuracy of model\n",
    "\n",
    "from sklearn.model_selection import ShuffleSplit\n",
    "from sklearn.model_selection import cross_val_score\n",
    "from sklearn.ensemble.forest import DecisionTreeClassifier\n",
    "\n",
    "cv = ShuffleSplit(n_splits=5, test_size=0.25, random_state=0)\n",
    "\n",
    "cross_val_score(DecisionTreeClassifier(), X, y, cv=cv)"
   ]
  },
  {
   "cell_type": "code",
   "execution_count": 82,
   "metadata": {},
   "outputs": [
    {
     "data": {
      "text/plain": [
       "array([0.8628, 0.852 , 0.854 , 0.8616, 0.8656])"
      ]
     },
     "execution_count": 82,
     "metadata": {},
     "output_type": "execute_result"
    }
   ],
   "source": [
    "# Using K Fold cross validation to measure accuracy of model\n",
    "\n",
    "from sklearn.model_selection import ShuffleSplit\n",
    "from sklearn.model_selection import cross_val_score\n",
    "from sklearn.ensemble.forest import RandomForestClassifier\n",
    "\n",
    "cv = ShuffleSplit(n_splits=5, test_size=0.25, random_state=0)\n",
    "\n",
    "cross_val_score(RandomForestClassifier(), X, y, cv=cv)"
   ]
  },
  {
   "cell_type": "code",
   "execution_count": 85,
   "metadata": {},
   "outputs": [],
   "source": [
    "#Importing Random Forest Model\n",
    "from sklearn.ensemble import RandomForestClassifier\n",
    "\n",
    "#Creating a Gaussian Classifier\n",
    "clf=RandomForestClassifier(max_features= 'log2',n_estimators=1000,oob_score=True)\n",
    "\n",
    "#Training the model using the training sets y_pred=clf.predict(X_test)\n",
    "clf.fit(X_train,y_train)\n",
    "\n",
    "y_pred=clf.predict(X_test)"
   ]
  },
  {
   "cell_type": "code",
   "execution_count": 86,
   "metadata": {},
   "outputs": [
    {
     "name": "stdout",
     "output_type": "stream",
     "text": [
      "Accuracy: 0.8676\n"
     ]
    }
   ],
   "source": [
    "#Importing scikit-learn metrics module for accuracy calculation\n",
    "from sklearn import metrics\n",
    "\n",
    "# Model Accuracy, how often is the classifier correct?\n",
    "print(\"Accuracy:\",metrics.accuracy_score(y_test, y_pred))"
   ]
  },
  {
   "cell_type": "code",
   "execution_count": 87,
   "metadata": {},
   "outputs": [
    {
     "data": {
      "text/plain": [
       "['NumOfProducts',\n",
       " 'HasChckng',\n",
       " 'IsActiveMember',\n",
       " 'Tenure',\n",
       " 'CreditScore',\n",
       " 'Balance',\n",
       " 'EstimatedSalary',\n",
       " 'Age',\n",
       " 'Central',\n",
       " 'East',\n",
       " 'West',\n",
       " 'Female',\n",
       " 'Male',\n",
       " 'Neutral']"
      ]
     },
     "execution_count": 87,
     "metadata": {},
     "output_type": "execute_result"
    }
   ],
   "source": [
    "features=list(X.columns)\n",
    "features"
   ]
  },
  {
   "cell_type": "code",
   "execution_count": 88,
   "metadata": {},
   "outputs": [
    {
     "data": {
      "text/plain": [
       "Age                0.235261\n",
       "Balance            0.147472\n",
       "EstimatedSalary    0.146458\n",
       "CreditScore        0.144262\n",
       "NumOfProducts      0.124633\n",
       "Tenure             0.084497\n",
       "IsActiveMember     0.040933\n",
       "East               0.020757\n",
       "HasChckng          0.017998\n",
       "West               0.010461\n",
       "Male               0.009440\n",
       "Female             0.008695\n",
       "Central            0.008534\n",
       "Neutral            0.000600\n",
       "dtype: float64"
      ]
     },
     "execution_count": 88,
     "metadata": {},
     "output_type": "execute_result"
    }
   ],
   "source": [
    "import pandas as pd\n",
    "feature_imp = pd.Series(clf.feature_importances_,index=features).sort_values(ascending=False)\n",
    "feature_imp"
   ]
  },
  {
   "cell_type": "code",
   "execution_count": 89,
   "metadata": {},
   "outputs": [
    {
     "data": {
      "image/png": "[encoded data removed]",
      "text/plain": [
       "<Figure size 1440x576 with 1 Axes>"
      ]
     },
     "metadata": {
      "needs_background": "light"
     },
     "output_type": "display_data"
    }
   ],
   "source": [
    "# Creating a bar plot visulize the features with their importance in predicting outcomes in model \n",
    "\n",
    "plt.figure(figsize = (20, 8))\n",
    "sns.barplot(x=feature_imp, y=feature_imp.index)\n",
    "plt.xlabel('Feature Importance Score')\n",
    "plt.ylabel('Features')\n",
    "plt.title(\"Visualizing Important Features wrt Attrition\")\n",
    "plt.show()"
   ]
  },
  {
   "cell_type": "code",
   "execution_count": 90,
   "metadata": {},
   "outputs": [
    {
     "name": "stdout",
     "output_type": "stream",
     "text": [
      "Predicted Class: 1\n"
     ]
    }
   ],
   "source": [
    "model = RandomForestClassifier()\n",
    "# fitting the model on the whole dataset\n",
    "model.fit(X, y)\n",
    "# making a single prediction\n",
    "row = [[266.0,23,3,1000,0,1,1,500,0,0,1,1,0,0]]\n",
    "Result = model.predict(row)\n",
    "print('Predicted Class: %d' % Result)"
   ]
  },
  {
   "cell_type": "markdown",
   "metadata": {},
   "source": [
    "## EDA Report"
   ]
  },
  {
   "cell_type": "markdown",
   "metadata": {},
   "source": [
    "## Insights retrieved from data based from above charts:\n",
    "\n",
    "* Overall <b>20.37%</b> of clients have been exited based on dataset.\n",
    "\n",
    "* The client's attrition across geography but the rate is quite high in East region with a percentage of <b>32.5%</b> followed by <b>16.17%</b> in Central and <b>16.15%</b> in West region.\n",
    "\n",
    "* <b>25%</b> of female attrition rate with compared to <b>16.43%</b> in male and <b>50%</b> in Neutral.\n",
    "\n",
    "* Clients attrition rate is more where only <b>1</b>  product is in their portfolio.\n",
    "\n",
    "<b>East Zone Analysis:</b>\n",
    "\n",
    "* Overall, <b>25.09%</b> of clients are based in East zone, where attrition rate in <b>32.5%</b> out of which <b>71.2%</b> of clients have only <b>1</b>  product in their portfolio.\n",
    "* <b>15.5%</b> attrition in clients with 2  product in their portfolio.\n",
    "* 13.5% attrition in clients with 3 or more  product in their portfolio\n",
    "\n",
    "<b>Central Zone Analysis:</b>\n",
    "\n",
    "* Overall, <b>24.77%</b> of clients are based in East zone, where attrition rate in <b>16.7%</b> out of which <b>64.65%</b> of clients have only 1  product in their portfolio.\n",
    "\n",
    "<b> West Zone Analysis:</b>\n",
    "\n",
    "* <b>50.14%</b> of clients are based in East zone, where attrition rate in <b>16.15%</b> out of which <b>69.62%</b> of clients have only 1  product in their portfolio.\n",
    "\n",
    "<b>Based on Investment balance snapshot</b>\n",
    "* out of ~64% of clients with investment balance greater than 8000, ~<b>24%</b> of clients have been Exited out of which <b>70%</b> of clients were having only 1  product in their portfolio.\n",
    "* out of total 2037 churned clients, 500 of them have the <b>ZERO (0) </b> Investment balance snapshot in their portfolio which account for <b>24.55%</b> of attritioned clients\n"
   ]
  },
  {
   "attachments": {
    "Capture_to_be_del.JPG": {
     "image/jpeg": "[encoded data removed]"
    }
   },
   "cell_type": "markdown",
   "metadata": {},
   "source": [
    "<b>Portfolios factors wrt clients attrition</b>\n",
    "\n",
    "![Capture_to_be_del.JPG](attachment:Capture_to_be_del.JPG)"
   ]
  },
  {
   "cell_type": "markdown",
   "metadata": {},
   "source": [
    "<b> End of Report</b>"
   ]
  }
 ],
 "metadata": {
  "kernelspec": {
   "display_name": "Python 3",
   "language": "python",
   "name": "python3"
  },
  "language_info": {
   "codemirror_mode": {
    "name": "ipython",
    "version": 3
   },
   "file_extension": ".py",
   "mimetype": "text/x-python",
   "name": "python",
   "nbconvert_exporter": "python",
   "pygments_lexer": "ipython3",
   "version": "3.8.5"
  }
 },
 "nbformat": 4,
 "nbformat_minor": 4
}
